{
  "nbformat": 4,
  "nbformat_minor": 0,
  "metadata": {
    "colab": {
      "name": "MatchAnalysis.ipynb",
      "provenance": [],
      "collapsed_sections": [
        "gGqM-v3r1QHD",
        "sTs8Fr1i3FL6",
        "yKS_e22CzjJS",
        "wjAGxvB00Jf3",
        "mAL_aBuM0eVl",
        "LZ2-FSC60kqU",
        "0QGKxKbhrZoU",
        "buA-aoZUtN4H",
        "83Mp3HX8tdY8",
        "Pbv0hWiJuGDI",
        "-vjd3o7uucU3",
        "j9ZelY_Bul2y",
        "c8lva-IiuxUU",
        "DnJm-WxPu5G_",
        "IEKmJ15IvNus",
        "sqJm5Z6AvXBJ",
        "WH3_KeUBv4yY",
        "GC80cTTPv_gZ",
        "-4ncaNOEwGEA"
      ],
      "machine_shape": "hm",
      "authorship_tag": "ABX9TyNyHyvosB5NJlHTpppXldFq",
      "include_colab_link": true
    },
    "kernelspec": {
      "name": "python3",
      "display_name": "Python 3"
    }
  },
  "cells": [
    {
      "cell_type": "markdown",
      "metadata": {
        "id": "view-in-github",
        "colab_type": "text"
      },
      "source": [
        "<a href=\"https://colab.research.google.com/github/chincholikarsalil/BE_project/blob/match_analysis/match_analysis.ipynb\" target=\"_parent\"><img src=\"https://colab.research.google.com/assets/colab-badge.svg\" alt=\"Open In Colab\"/></a>"
      ]
    },
    {
      "cell_type": "markdown",
      "metadata": {
        "id": "gGqM-v3r1QHD",
        "colab_type": "text"
      },
      "source": [
        "---\n",
        "# <center>Predictive Analytics of Football\n",
        "---\n",
        "#### <center> **Group no. 12**  \n",
        "####<center>Salil Chincholikar, Niharika Sadul, Parth Thakkar, Ashutosh Amrutkar\n",
        "####<center>Guide - Mr. Nikhil Dhavase\n",
        "---\n",
        "# <center>Match Analysis\n",
        "---"
      ]
    },
    {
      "cell_type": "markdown",
      "metadata": {
        "id": "sTs8Fr1i3FL6",
        "colab_type": "text"
      },
      "source": [
        "###Initial steps"
      ]
    },
    {
      "cell_type": "markdown",
      "metadata": {
        "id": "tCN2Towq94rZ",
        "colab_type": "text"
      },
      "source": [
        "The dataset we are using for this part is from the data science community Kaggle https://www.kaggle.com/secareanualin/football-events.\n",
        "This dataset is used to perform exploratory data analysis of the football Matches. "
      ]
    },
    {
      "cell_type": "code",
      "metadata": {
        "id": "G18uKGT1TI63",
        "colab_type": "code",
        "colab": {}
      },
      "source": [
        "from google.colab import drive \n",
        "drive.mount('/mntDrive') "
      ],
      "execution_count": 0,
      "outputs": []
    },
    {
      "cell_type": "code",
      "metadata": {
        "id": "QcbmfqXuUFlW",
        "colab_type": "code",
        "colab": {}
      },
      "source": [
        "from google.colab import drive\n",
        "drive.mount('/content/drive')"
      ],
      "execution_count": 0,
      "outputs": []
    },
    {
      "cell_type": "code",
      "metadata": {
        "id": "lRLQG755UJtj",
        "colab_type": "code",
        "colab": {}
      },
      "source": [
        "import zipfile\n",
        "%matplotlib inline \n",
        "import numpy as np \n",
        "import scipy as sp \n",
        "import matplotlib as mpl\n",
        "import matplotlib.cm as cm \n",
        "import matplotlib.pyplot as plt\n",
        "import pandas as pd \n",
        "pd.set_option('display.width', 500)\n",
        "pd.set_option('display.max_columns', 100)\n",
        "pd.set_option('display.notebook_repr_html', True)\n",
        "import seaborn as sns\n",
        "sns.set(style=\"whitegrid\")\n",
        "import warnings\n",
        "warnings.filterwarnings('ignore')\n"
      ],
      "execution_count": 0,
      "outputs": []
    },
    {
      "cell_type": "code",
      "metadata": {
        "id": "94AVv5j5rMaJ",
        "colab_type": "code",
        "colab": {}
      },
      "source": [
        "from xgboost import XGBClassifier\n",
        "import sklearn\n",
        "from sklearn.metrics import average_precision_score\n",
        "from sklearn.metrics import roc_auc_score\n",
        "from sklearn.model_selection import GridSearchCV\n",
        "from sklearn.model_selection import train_test_split\n",
        "from sklearn.metrics import classification_report,confusion_matrix\n",
        "from sklearn.metrics import cohen_kappa_score\n",
        "from sklearn.linear_model import LogisticRegression\n",
        "from sklearn.tree import DecisionTreeClassifier\n",
        "from sklearn.ensemble import RandomForestRegressor\n",
        "from sklearn.ensemble import RandomForestClassifier\n",
        "from sklearn.neural_network import MLPClassifier"
      ],
      "execution_count": 0,
      "outputs": []
    },
    {
      "cell_type": "code",
      "metadata": {
        "id": "spsc4o3RVDfq",
        "colab_type": "code",
        "colab": {}
      },
      "source": [
        "events = pd.read_csv('/content/drive/My Drive/google_colab/Datasets/Match/events.csv')\n",
        "game_info=pd.read_csv('/content/drive/My Drive/google_colab/Datasets/Match/ginf.csv')\n",
        "print(\"Events shape - \", events.shape())\n",
        "print(\"Game Info shape - \", ginf.shape())"
      ],
      "execution_count": 0,
      "outputs": []
    },
    {
      "cell_type": "code",
      "metadata": {
        "id": "RLrcN5w9VMFJ",
        "colab_type": "code",
        "outputId": "71260c6f-d01f-4ba7-eee5-44cd37bdd5cf",
        "colab": {
          "base_uri": "https://localhost:8080/",
          "height": 601
        }
      },
      "source": [
        "events.head()     "
      ],
      "execution_count": 0,
      "outputs": [
        {
          "output_type": "execute_result",
          "data": {
            "text/html": [
              "<div>\n",
              "<style scoped>\n",
              "    .dataframe tbody tr th:only-of-type {\n",
              "        vertical-align: middle;\n",
              "    }\n",
              "\n",
              "    .dataframe tbody tr th {\n",
              "        vertical-align: top;\n",
              "    }\n",
              "\n",
              "    .dataframe thead th {\n",
              "        text-align: right;\n",
              "    }\n",
              "</style>\n",
              "<table border=\"1\" class=\"dataframe\">\n",
              "  <thead>\n",
              "    <tr style=\"text-align: right;\">\n",
              "      <th></th>\n",
              "      <th>id_odsp</th>\n",
              "      <th>id_event</th>\n",
              "      <th>sort_order</th>\n",
              "      <th>time</th>\n",
              "      <th>text</th>\n",
              "      <th>event_type</th>\n",
              "      <th>event_type2</th>\n",
              "      <th>side</th>\n",
              "      <th>event_team</th>\n",
              "      <th>opponent</th>\n",
              "      <th>player</th>\n",
              "      <th>player2</th>\n",
              "      <th>player_in</th>\n",
              "      <th>player_out</th>\n",
              "      <th>shot_place</th>\n",
              "      <th>shot_outcome</th>\n",
              "      <th>is_goal</th>\n",
              "      <th>location</th>\n",
              "      <th>bodypart</th>\n",
              "      <th>assist_method</th>\n",
              "      <th>situation</th>\n",
              "      <th>fast_break</th>\n",
              "    </tr>\n",
              "  </thead>\n",
              "  <tbody>\n",
              "    <tr>\n",
              "      <th>0</th>\n",
              "      <td>UFot0hit/</td>\n",
              "      <td>UFot0hit1</td>\n",
              "      <td>1</td>\n",
              "      <td>2</td>\n",
              "      <td>Attempt missed. Mladen Petric (Hamburg) left f...</td>\n",
              "      <td>1</td>\n",
              "      <td>12.0</td>\n",
              "      <td>2</td>\n",
              "      <td>Hamburg SV</td>\n",
              "      <td>Borussia Dortmund</td>\n",
              "      <td>mladen petric</td>\n",
              "      <td>gokhan tore</td>\n",
              "      <td>NaN</td>\n",
              "      <td>NaN</td>\n",
              "      <td>6.0</td>\n",
              "      <td>2.0</td>\n",
              "      <td>0</td>\n",
              "      <td>9.0</td>\n",
              "      <td>2.0</td>\n",
              "      <td>1</td>\n",
              "      <td>1.0</td>\n",
              "      <td>0</td>\n",
              "    </tr>\n",
              "    <tr>\n",
              "      <th>1</th>\n",
              "      <td>UFot0hit/</td>\n",
              "      <td>UFot0hit2</td>\n",
              "      <td>2</td>\n",
              "      <td>4</td>\n",
              "      <td>Corner,  Borussia Dortmund. Conceded by Dennis...</td>\n",
              "      <td>2</td>\n",
              "      <td>NaN</td>\n",
              "      <td>1</td>\n",
              "      <td>Borussia Dortmund</td>\n",
              "      <td>Hamburg SV</td>\n",
              "      <td>dennis diekmeier</td>\n",
              "      <td>dennis diekmeier</td>\n",
              "      <td>NaN</td>\n",
              "      <td>NaN</td>\n",
              "      <td>NaN</td>\n",
              "      <td>NaN</td>\n",
              "      <td>0</td>\n",
              "      <td>NaN</td>\n",
              "      <td>NaN</td>\n",
              "      <td>0</td>\n",
              "      <td>NaN</td>\n",
              "      <td>0</td>\n",
              "    </tr>\n",
              "    <tr>\n",
              "      <th>2</th>\n",
              "      <td>UFot0hit/</td>\n",
              "      <td>UFot0hit3</td>\n",
              "      <td>3</td>\n",
              "      <td>4</td>\n",
              "      <td>Corner,  Borussia Dortmund. Conceded by Heiko ...</td>\n",
              "      <td>2</td>\n",
              "      <td>NaN</td>\n",
              "      <td>1</td>\n",
              "      <td>Borussia Dortmund</td>\n",
              "      <td>Hamburg SV</td>\n",
              "      <td>heiko westermann</td>\n",
              "      <td>heiko westermann</td>\n",
              "      <td>NaN</td>\n",
              "      <td>NaN</td>\n",
              "      <td>NaN</td>\n",
              "      <td>NaN</td>\n",
              "      <td>0</td>\n",
              "      <td>NaN</td>\n",
              "      <td>NaN</td>\n",
              "      <td>0</td>\n",
              "      <td>NaN</td>\n",
              "      <td>0</td>\n",
              "    </tr>\n",
              "    <tr>\n",
              "      <th>3</th>\n",
              "      <td>UFot0hit/</td>\n",
              "      <td>UFot0hit4</td>\n",
              "      <td>4</td>\n",
              "      <td>7</td>\n",
              "      <td>Foul by Sven Bender (Borussia Dortmund).</td>\n",
              "      <td>3</td>\n",
              "      <td>NaN</td>\n",
              "      <td>1</td>\n",
              "      <td>Borussia Dortmund</td>\n",
              "      <td>Hamburg SV</td>\n",
              "      <td>sven bender</td>\n",
              "      <td>NaN</td>\n",
              "      <td>NaN</td>\n",
              "      <td>NaN</td>\n",
              "      <td>NaN</td>\n",
              "      <td>NaN</td>\n",
              "      <td>0</td>\n",
              "      <td>NaN</td>\n",
              "      <td>NaN</td>\n",
              "      <td>0</td>\n",
              "      <td>NaN</td>\n",
              "      <td>0</td>\n",
              "    </tr>\n",
              "    <tr>\n",
              "      <th>4</th>\n",
              "      <td>UFot0hit/</td>\n",
              "      <td>UFot0hit5</td>\n",
              "      <td>5</td>\n",
              "      <td>7</td>\n",
              "      <td>Gokhan Tore (Hamburg) wins a free kick in the ...</td>\n",
              "      <td>8</td>\n",
              "      <td>NaN</td>\n",
              "      <td>2</td>\n",
              "      <td>Hamburg SV</td>\n",
              "      <td>Borussia Dortmund</td>\n",
              "      <td>gokhan tore</td>\n",
              "      <td>NaN</td>\n",
              "      <td>NaN</td>\n",
              "      <td>NaN</td>\n",
              "      <td>NaN</td>\n",
              "      <td>NaN</td>\n",
              "      <td>0</td>\n",
              "      <td>2.0</td>\n",
              "      <td>NaN</td>\n",
              "      <td>0</td>\n",
              "      <td>NaN</td>\n",
              "      <td>0</td>\n",
              "    </tr>\n",
              "  </tbody>\n",
              "</table>\n",
              "</div>"
            ],
            "text/plain": [
              "     id_odsp   id_event  sort_order  time                                               text  event_type  event_type2  side         event_team           opponent            player           player2 player_in player_out  shot_place  shot_outcome  is_goal  location  bodypart  assist_method  situation  fast_break\n",
              "0  UFot0hit/  UFot0hit1           1     2  Attempt missed. Mladen Petric (Hamburg) left f...           1         12.0     2         Hamburg SV  Borussia Dortmund     mladen petric       gokhan tore       NaN        NaN         6.0           2.0        0       9.0       2.0              1        1.0           0\n",
              "1  UFot0hit/  UFot0hit2           2     4  Corner,  Borussia Dortmund. Conceded by Dennis...           2          NaN     1  Borussia Dortmund         Hamburg SV  dennis diekmeier  dennis diekmeier       NaN        NaN         NaN           NaN        0       NaN       NaN              0        NaN           0\n",
              "2  UFot0hit/  UFot0hit3           3     4  Corner,  Borussia Dortmund. Conceded by Heiko ...           2          NaN     1  Borussia Dortmund         Hamburg SV  heiko westermann  heiko westermann       NaN        NaN         NaN           NaN        0       NaN       NaN              0        NaN           0\n",
              "3  UFot0hit/  UFot0hit4           4     7           Foul by Sven Bender (Borussia Dortmund).           3          NaN     1  Borussia Dortmund         Hamburg SV       sven bender               NaN       NaN        NaN         NaN           NaN        0       NaN       NaN              0        NaN           0\n",
              "4  UFot0hit/  UFot0hit5           5     7  Gokhan Tore (Hamburg) wins a free kick in the ...           8          NaN     2         Hamburg SV  Borussia Dortmund       gokhan tore               NaN       NaN        NaN         NaN           NaN        0       2.0       NaN              0        NaN           0"
            ]
          },
          "metadata": {
            "tags": []
          },
          "execution_count": 5
        }
      ]
    },
    {
      "cell_type": "code",
      "metadata": {
        "id": "H6rsPzgdVQmm",
        "colab_type": "code",
        "outputId": "9170f83e-55ce-4a3e-d076-de7d40e72838",
        "colab": {
          "base_uri": "https://localhost:8080/",
          "height": 307
        }
      },
      "source": [
        "events.describe()"
      ],
      "execution_count": 0,
      "outputs": [
        {
          "output_type": "execute_result",
          "data": {
            "text/html": [
              "<div>\n",
              "<style scoped>\n",
              "    .dataframe tbody tr th:only-of-type {\n",
              "        vertical-align: middle;\n",
              "    }\n",
              "\n",
              "    .dataframe tbody tr th {\n",
              "        vertical-align: top;\n",
              "    }\n",
              "\n",
              "    .dataframe thead th {\n",
              "        text-align: right;\n",
              "    }\n",
              "</style>\n",
              "<table border=\"1\" class=\"dataframe\">\n",
              "  <thead>\n",
              "    <tr style=\"text-align: right;\">\n",
              "      <th></th>\n",
              "      <th>sort_order</th>\n",
              "      <th>time</th>\n",
              "      <th>event_type</th>\n",
              "      <th>event_type2</th>\n",
              "      <th>side</th>\n",
              "      <th>shot_place</th>\n",
              "      <th>shot_outcome</th>\n",
              "      <th>is_goal</th>\n",
              "      <th>location</th>\n",
              "      <th>bodypart</th>\n",
              "      <th>assist_method</th>\n",
              "      <th>situation</th>\n",
              "      <th>fast_break</th>\n",
              "    </tr>\n",
              "  </thead>\n",
              "  <tbody>\n",
              "    <tr>\n",
              "      <th>count</th>\n",
              "      <td>941009.000000</td>\n",
              "      <td>941009.000000</td>\n",
              "      <td>941009.000000</td>\n",
              "      <td>214293.000000</td>\n",
              "      <td>941009.000000</td>\n",
              "      <td>227459.000000</td>\n",
              "      <td>228498.000000</td>\n",
              "      <td>941009.000000</td>\n",
              "      <td>467067.000000</td>\n",
              "      <td>229185.000000</td>\n",
              "      <td>941009.000000</td>\n",
              "      <td>229137.000000</td>\n",
              "      <td>941009.000000</td>\n",
              "    </tr>\n",
              "    <tr>\n",
              "      <th>mean</th>\n",
              "      <td>53.858826</td>\n",
              "      <td>49.663663</td>\n",
              "      <td>4.326575</td>\n",
              "      <td>12.233764</td>\n",
              "      <td>1.481170</td>\n",
              "      <td>5.733693</td>\n",
              "      <td>1.926555</td>\n",
              "      <td>0.025978</td>\n",
              "      <td>6.209073</td>\n",
              "      <td>1.624831</td>\n",
              "      <td>0.264332</td>\n",
              "      <td>1.281316</td>\n",
              "      <td>0.004876</td>\n",
              "    </tr>\n",
              "    <tr>\n",
              "      <th>std</th>\n",
              "      <td>32.014268</td>\n",
              "      <td>26.488977</td>\n",
              "      <td>2.995313</td>\n",
              "      <td>0.468850</td>\n",
              "      <td>0.499646</td>\n",
              "      <td>3.326100</td>\n",
              "      <td>0.797055</td>\n",
              "      <td>0.159071</td>\n",
              "      <td>5.421736</td>\n",
              "      <td>0.740400</td>\n",
              "      <td>0.655501</td>\n",
              "      <td>0.709394</td>\n",
              "      <td>0.069655</td>\n",
              "    </tr>\n",
              "    <tr>\n",
              "      <th>min</th>\n",
              "      <td>1.000000</td>\n",
              "      <td>0.000000</td>\n",
              "      <td>1.000000</td>\n",
              "      <td>12.000000</td>\n",
              "      <td>1.000000</td>\n",
              "      <td>1.000000</td>\n",
              "      <td>1.000000</td>\n",
              "      <td>0.000000</td>\n",
              "      <td>1.000000</td>\n",
              "      <td>1.000000</td>\n",
              "      <td>0.000000</td>\n",
              "      <td>1.000000</td>\n",
              "      <td>0.000000</td>\n",
              "    </tr>\n",
              "    <tr>\n",
              "      <th>25%</th>\n",
              "      <td>27.000000</td>\n",
              "      <td>27.000000</td>\n",
              "      <td>2.000000</td>\n",
              "      <td>12.000000</td>\n",
              "      <td>1.000000</td>\n",
              "      <td>2.000000</td>\n",
              "      <td>1.000000</td>\n",
              "      <td>0.000000</td>\n",
              "      <td>2.000000</td>\n",
              "      <td>1.000000</td>\n",
              "      <td>0.000000</td>\n",
              "      <td>1.000000</td>\n",
              "      <td>0.000000</td>\n",
              "    </tr>\n",
              "    <tr>\n",
              "      <th>50%</th>\n",
              "      <td>53.000000</td>\n",
              "      <td>51.000000</td>\n",
              "      <td>3.000000</td>\n",
              "      <td>12.000000</td>\n",
              "      <td>1.000000</td>\n",
              "      <td>5.000000</td>\n",
              "      <td>2.000000</td>\n",
              "      <td>0.000000</td>\n",
              "      <td>3.000000</td>\n",
              "      <td>1.000000</td>\n",
              "      <td>0.000000</td>\n",
              "      <td>1.000000</td>\n",
              "      <td>0.000000</td>\n",
              "    </tr>\n",
              "    <tr>\n",
              "      <th>75%</th>\n",
              "      <td>79.000000</td>\n",
              "      <td>73.000000</td>\n",
              "      <td>8.000000</td>\n",
              "      <td>12.000000</td>\n",
              "      <td>2.000000</td>\n",
              "      <td>9.000000</td>\n",
              "      <td>3.000000</td>\n",
              "      <td>0.000000</td>\n",
              "      <td>11.000000</td>\n",
              "      <td>2.000000</td>\n",
              "      <td>0.000000</td>\n",
              "      <td>1.000000</td>\n",
              "      <td>0.000000</td>\n",
              "    </tr>\n",
              "    <tr>\n",
              "      <th>max</th>\n",
              "      <td>180.000000</td>\n",
              "      <td>100.000000</td>\n",
              "      <td>11.000000</td>\n",
              "      <td>15.000000</td>\n",
              "      <td>2.000000</td>\n",
              "      <td>13.000000</td>\n",
              "      <td>4.000000</td>\n",
              "      <td>1.000000</td>\n",
              "      <td>19.000000</td>\n",
              "      <td>3.000000</td>\n",
              "      <td>4.000000</td>\n",
              "      <td>4.000000</td>\n",
              "      <td>1.000000</td>\n",
              "    </tr>\n",
              "  </tbody>\n",
              "</table>\n",
              "</div>"
            ],
            "text/plain": [
              "          sort_order           time     event_type    event_type2           side     shot_place   shot_outcome        is_goal       location       bodypart  assist_method      situation     fast_break\n",
              "count  941009.000000  941009.000000  941009.000000  214293.000000  941009.000000  227459.000000  228498.000000  941009.000000  467067.000000  229185.000000  941009.000000  229137.000000  941009.000000\n",
              "mean       53.858826      49.663663       4.326575      12.233764       1.481170       5.733693       1.926555       0.025978       6.209073       1.624831       0.264332       1.281316       0.004876\n",
              "std        32.014268      26.488977       2.995313       0.468850       0.499646       3.326100       0.797055       0.159071       5.421736       0.740400       0.655501       0.709394       0.069655\n",
              "min         1.000000       0.000000       1.000000      12.000000       1.000000       1.000000       1.000000       0.000000       1.000000       1.000000       0.000000       1.000000       0.000000\n",
              "25%        27.000000      27.000000       2.000000      12.000000       1.000000       2.000000       1.000000       0.000000       2.000000       1.000000       0.000000       1.000000       0.000000\n",
              "50%        53.000000      51.000000       3.000000      12.000000       1.000000       5.000000       2.000000       0.000000       3.000000       1.000000       0.000000       1.000000       0.000000\n",
              "75%        79.000000      73.000000       8.000000      12.000000       2.000000       9.000000       3.000000       0.000000      11.000000       2.000000       0.000000       1.000000       0.000000\n",
              "max       180.000000     100.000000      11.000000      15.000000       2.000000      13.000000       4.000000       1.000000      19.000000       3.000000       4.000000       4.000000       1.000000"
            ]
          },
          "metadata": {
            "tags": []
          },
          "execution_count": 6
        }
      ]
    },
    {
      "cell_type": "code",
      "metadata": {
        "id": "DNtlWfO5VznP",
        "colab_type": "code",
        "outputId": "016da9ae-c7e5-4244-81f8-f3ef3edbe347",
        "colab": {
          "base_uri": "https://localhost:8080/",
          "height": 54
        }
      },
      "source": [
        "events.columns"
      ],
      "execution_count": 0,
      "outputs": [
        {
          "output_type": "execute_result",
          "data": {
            "text/plain": [
              "Index(['id_odsp', 'id_event', 'sort_order', 'time', 'text', 'event_type', 'event_type2', 'side', 'event_team', 'opponent', 'player', 'player2', 'player_in', 'player_out', 'shot_place', 'shot_outcome', 'is_goal', 'location', 'bodypart', 'assist_method', 'situation', 'fast_break'], dtype='object')"
            ]
          },
          "metadata": {
            "tags": []
          },
          "execution_count": 7
        }
      ]
    },
    {
      "cell_type": "code",
      "metadata": {
        "id": "UR9_kOHcV1jp",
        "colab_type": "code",
        "outputId": "bceaea25-f8c0-401e-e1b9-b32277699383",
        "colab": {
          "base_uri": "https://localhost:8080/",
          "height": 425
        }
      },
      "source": [
        "events.isnull().sum()"
      ],
      "execution_count": 0,
      "outputs": [
        {
          "output_type": "execute_result",
          "data": {
            "text/plain": [
              "id_odsp               0\n",
              "id_event              0\n",
              "sort_order            0\n",
              "time                  0\n",
              "text                  0\n",
              "event_type            0\n",
              "event_type2      726716\n",
              "side                  0\n",
              "event_team            0\n",
              "opponent              0\n",
              "player            61000\n",
              "player2          649699\n",
              "player_in        889294\n",
              "player_out       889271\n",
              "shot_place       713550\n",
              "shot_outcome     712511\n",
              "is_goal               0\n",
              "location         473942\n",
              "bodypart         711824\n",
              "assist_method         0\n",
              "situation        711872\n",
              "fast_break            0\n",
              "dtype: int64"
            ]
          },
          "metadata": {
            "tags": []
          },
          "execution_count": 8
        }
      ]
    },
    {
      "cell_type": "markdown",
      "metadata": {
        "id": "yKS_e22CzjJS",
        "colab_type": "text"
      },
      "source": [
        "###Analysing Goals Scored\n"
      ]
    },
    {
      "cell_type": "code",
      "metadata": {
        "id": "4UV9ibAXV3XS",
        "colab_type": "code",
        "colab": {}
      },
      "source": [
        "goals=events[events[\"is_goal\"]==1]"
      ],
      "execution_count": 0,
      "outputs": []
    },
    {
      "cell_type": "markdown",
      "metadata": {
        "id": "C3cLyIbnzs1B",
        "colab_type": "text"
      },
      "source": [
        "Analysing goals against timing\n"
      ]
    },
    {
      "cell_type": "code",
      "metadata": {
        "id": "qmUBuTK5WAh9",
        "colab_type": "code",
        "outputId": "046ae489-4e24-46ea-fa39-1321afcbcfaf",
        "colab": {
          "base_uri": "https://localhost:8080/",
          "height": 427
        }
      },
      "source": [
        "fig=plt.figure(figsize=(8,6))\n",
        "plt.hist(goals.time,width=1,bins=100,color=\"green\")   #100 so 1 bar per minute\n",
        "plt.xlabel(\"Minutes\")\n",
        "plt.ylabel(\"Number of goals\")\n",
        "plt.title(\"Number of goals against Time during match\")"
      ],
      "execution_count": 0,
      "outputs": [
        {
          "output_type": "execute_result",
          "data": {
            "text/plain": [
              "Text(0.5, 1.0, 'Number of goals against Time during match')"
            ]
          },
          "metadata": {
            "tags": []
          },
          "execution_count": 10
        },
        {
          "output_type": "display_data",
          "data": {
            "image/png": "[encoded data removed]",
            "text/plain": [
              "<Figure size 576x432 with 1 Axes>"
            ]
          },
          "metadata": {
            "tags": []
          }
        }
      ]
    },
    {
      "cell_type": "markdown",
      "metadata": {
        "id": "iynaHmQfz2q8",
        "colab_type": "text"
      },
      "source": [
        ""
      ]
    },
    {
      "cell_type": "markdown",
      "metadata": {
        "id": "amyaVAxuzyAh",
        "colab_type": "text"
      },
      "source": [
        "Analysing Home/Away Goals\n"
      ]
    },
    {
      "cell_type": "code",
      "metadata": {
        "id": "iB7TJM-jWFrT",
        "colab_type": "code",
        "outputId": "36583f4e-0e35-45b7-b4da-796bee493573",
        "colab": {
          "base_uri": "https://localhost:8080/",
          "height": 427
        }
      },
      "source": [
        "fig=plt.figure(figsize=(8,6))\n",
        "plt.hist(goals[goals[\"side\"]==1][\"time\"],width=1,bins=100,color=\"cyan\",label=\"home goals\")   \n",
        "plt.hist(goals[goals[\"side\"]==2][\"time\"],width=1,bins=100,color=\"grey\",label=\"away goals\") \n",
        "plt.xlabel(\"Minutes\")\n",
        "plt.ylabel(\"Number of goals\")\n",
        "plt.legend()\n",
        "plt.title(\"Number of goals (by home/away side) against Time during match\")"
      ],
      "execution_count": 0,
      "outputs": [
        {
          "output_type": "execute_result",
          "data": {
            "text/plain": [
              "Text(0.5, 1.0, 'Number of goals (by home/away side) against Time during match')"
            ]
          },
          "metadata": {
            "tags": []
          },
          "execution_count": 11
        },
        {
          "output_type": "display_data",
          "data": {
            "image/png": "[encoded data removed]",
            "text/plain": [
              "<Figure size 576x432 with 1 Axes>"
            ]
          },
          "metadata": {
            "tags": []
          }
        }
      ]
    },
    {
      "cell_type": "code",
      "metadata": {
        "id": "u-tPXgFkWIj1",
        "colab_type": "code",
        "outputId": "3ff4acad-efff-40cf-d46b-296e9e12d802",
        "colab": {
          "base_uri": "https://localhost:8080/",
          "height": 445
        }
      },
      "source": [
        "labels=[\"Right Foot\",\"Left Foot\",\"Headers\"]\n",
        "sizes=[goals[goals[\"bodypart\"]==1].shape[0],goals[goals[\"bodypart\"]==2].shape[0],goals[goals[\"bodypart\"]==3].shape[0]]\n",
        "colors=[\"cyan\",\"grey\",\"pink\"]\n",
        "plt.pie(sizes,labels=labels,colors=colors,autopct='%1.1f%%',startangle=60)\n",
        "plt.axis('equal')\n",
        "plt.title(\"Percentage of bodyparts for goals\",fontname=\"Times New Roman Bold\",fontsize=14,fontweight=\"bold\")\n",
        "fig=plt.gcf() \n",
        "fig.set_size_inches(7,7)"
      ],
      "execution_count": 0,
      "outputs": [
        {
          "output_type": "stream",
          "text": [
            "findfont: Font family ['Times New Roman Bold'] not found. Falling back to DejaVu Sans.\n"
          ],
          "name": "stderr"
        },
        {
          "output_type": "display_data",
          "data": {
            "image/png": "[encoded data removed]",
            "text/plain": [
              "<Figure size 504x504 with 1 Axes>"
            ]
          },
          "metadata": {
            "tags": []
          }
        }
      ]
    },
    {
      "cell_type": "code",
      "metadata": {
        "id": "J4JLiQMXWLBy",
        "colab_type": "code",
        "outputId": "3aac1a41-2493-415a-c105-027ae3481b8f",
        "colab": {
          "base_uri": "https://localhost:8080/",
          "height": 436
        }
      },
      "source": [
        "fig=plt.figure(figsize=(8,6))\n",
        "plt.hist(goals[goals[\"bodypart\"]==1][\"time\"],width=1,bins=100,color=\"cyan\",label=\"Right foot\")   \n",
        "plt.hist(goals[goals[\"bodypart\"]==2][\"time\"],width=1,bins=100,color=\"grey\",label=\"Left foot\") \n",
        "plt.hist(goals[goals[\"bodypart\"]==3][\"time\"],width=1,bins=100,color=\"pink\",label=\"Headers\") \n",
        "plt.xlabel(\"Minutes\")\n",
        "plt.ylabel(\"Number of goals\")\n",
        "plt.legend()\n",
        "plt.title(\"Number of goals (by body parts) against Time\",fontname=\"Times New Roman Bold\",fontsize=14,fontweight=\"bold\")\n",
        "plt.tight_layout()"
      ],
      "execution_count": 0,
      "outputs": [
        {
          "output_type": "display_data",
          "data": {
            "image/png": "[encoded data removed]",
            "text/plain": [
              "<Figure size 576x432 with 1 Axes>"
            ]
          },
          "metadata": {
            "tags": []
          }
        }
      ]
    },
    {
      "cell_type": "markdown",
      "metadata": {
        "id": "Tyr6e8Gs0FvM",
        "colab_type": "text"
      },
      "source": [
        ""
      ]
    },
    {
      "cell_type": "markdown",
      "metadata": {
        "id": "wjAGxvB00Jf3",
        "colab_type": "text"
      },
      "source": [
        "###Cards against Time\n"
      ]
    },
    {
      "cell_type": "markdown",
      "metadata": {
        "id": "tujORn5o0F0U",
        "colab_type": "text"
      },
      "source": [
        "Yellow Cards against Time\n"
      ]
    },
    {
      "cell_type": "code",
      "metadata": {
        "id": "0HE9L-QFWOm8",
        "colab_type": "code",
        "outputId": "24b043d7-a75e-49a0-b257-170c8d7f4921",
        "colab": {
          "base_uri": "https://localhost:8080/",
          "height": 428
        }
      },
      "source": [
        "yel_card=events[events[\"event_type\"]==4]\n",
        "plt.figure(figsize=(8,6))\n",
        "plt.hist(yel_card.time,width=1,bins=100,color=\"yellow\")   \n",
        "plt.xlabel(\"Minutes\")\n",
        "plt.ylabel(\"Number of yellow cards\")\n",
        "plt.title(\"Number of yellow cards against Time during match\",fontname=\"Times New Roman Bold\",fontsize=14,fontweight=\"bold\")"
      ],
      "execution_count": 0,
      "outputs": [
        {
          "output_type": "execute_result",
          "data": {
            "text/plain": [
              "Text(0.5, 1.0, 'Number of yellow cards against Time during match')"
            ]
          },
          "metadata": {
            "tags": []
          },
          "execution_count": 14
        },
        {
          "output_type": "display_data",
          "data": {
            "image/png": "[encoded data removed]",
            "text/plain": [
              "<Figure size 576x432 with 1 Axes>"
            ]
          },
          "metadata": {
            "tags": []
          }
        }
      ]
    },
    {
      "cell_type": "markdown",
      "metadata": {
        "id": "lni7yi-R0ODS",
        "colab_type": "text"
      },
      "source": [
        ""
      ]
    },
    {
      "cell_type": "markdown",
      "metadata": {
        "id": "fKNjT2PK0OND",
        "colab_type": "text"
      },
      "source": [
        "Red Cards against Time\n"
      ]
    },
    {
      "cell_type": "code",
      "metadata": {
        "id": "8kctHfsNWSBp",
        "colab_type": "code",
        "outputId": "11bf2cc7-ebd2-4440-cf03-1e38a4efb27f",
        "colab": {
          "base_uri": "https://localhost:8080/",
          "height": 428
        }
      },
      "source": [
        "sec_yellow=events[events[\"event_type\"]==5]\n",
        "red=events[events[\"event_type\"]==6]\n",
        "reds=[sec_yellow,red]\n",
        "red_cards=pd.concat(reds)\n",
        "fig=plt.figure(figsize=(8,6))\n",
        "plt.hist(red_cards.time,width=1,bins=100,color=\"red\")   \n",
        "plt.xlabel(\"Minutes\")\n",
        "plt.ylabel(\"Number of red cards\")\n",
        "plt.title(\"Number of red cards against Time during match\",fontname=\"Times New Roman Bold\",fontsize=14,fontweight=\"bold\")"
      ],
      "execution_count": 0,
      "outputs": [
        {
          "output_type": "execute_result",
          "data": {
            "text/plain": [
              "Text(0.5, 1.0, 'Number of red cards against Time during match')"
            ]
          },
          "metadata": {
            "tags": []
          },
          "execution_count": 15
        },
        {
          "output_type": "display_data",
          "data": {
            "image/png": "[encoded data removed]",
            "text/plain": [
              "<Figure size 576x432 with 1 Axes>"
            ]
          },
          "metadata": {
            "tags": []
          }
        }
      ]
    },
    {
      "cell_type": "markdown",
      "metadata": {
        "id": "FwjzoSE80eYi",
        "colab_type": "text"
      },
      "source": [
        ""
      ]
    },
    {
      "cell_type": "markdown",
      "metadata": {
        "id": "mAL_aBuM0eVl",
        "colab_type": "text"
      },
      "source": [
        "###Handling events"
      ]
    },
    {
      "cell_type": "code",
      "metadata": {
        "id": "NBYA3MB0WT_s",
        "colab_type": "code",
        "colab": {}
      },
      "source": [
        "encoding = pd.read_table('/content/drive/My Drive/google_colab/Datasets/Match/dictionary.txt', delim_whitespace=False, names=('num','events'))\n",
        "event_type=encoding[1:13]\n",
        "event_type_2=encoding[14:18]\n",
        "side=encoding[19:21]\n",
        "shot_place=encoding[22:35]\n",
        "shot_outcome=encoding[36:40]\n",
        "location=encoding[41:60]\n",
        "bodypart=encoding[61:64]\n",
        "assist_method=encoding[65:70]\n",
        "situation=encoding[71:75]"
      ],
      "execution_count": 0,
      "outputs": []
    },
    {
      "cell_type": "code",
      "metadata": {
        "id": "ovhSGsm_WpCZ",
        "colab_type": "code",
        "outputId": "b39c202d-d5e5-4e08-fb2e-c82b09b61305",
        "colab": {
          "base_uri": "https://localhost:8080/",
          "height": 407
        }
      },
      "source": [
        "event_type"
      ],
      "execution_count": 0,
      "outputs": [
        {
          "output_type": "execute_result",
          "data": {
            "text/html": [
              "<div>\n",
              "<style scoped>\n",
              "    .dataframe tbody tr th:only-of-type {\n",
              "        vertical-align: middle;\n",
              "    }\n",
              "\n",
              "    .dataframe tbody tr th {\n",
              "        vertical-align: top;\n",
              "    }\n",
              "\n",
              "    .dataframe thead th {\n",
              "        text-align: right;\n",
              "    }\n",
              "</style>\n",
              "<table border=\"1\" class=\"dataframe\">\n",
              "  <thead>\n",
              "    <tr style=\"text-align: right;\">\n",
              "      <th></th>\n",
              "      <th>num</th>\n",
              "      <th>events</th>\n",
              "    </tr>\n",
              "  </thead>\n",
              "  <tbody>\n",
              "    <tr>\n",
              "      <th>1</th>\n",
              "      <td>0</td>\n",
              "      <td>Announcement</td>\n",
              "    </tr>\n",
              "    <tr>\n",
              "      <th>2</th>\n",
              "      <td>1</td>\n",
              "      <td>Attempt</td>\n",
              "    </tr>\n",
              "    <tr>\n",
              "      <th>3</th>\n",
              "      <td>2</td>\n",
              "      <td>Corner</td>\n",
              "    </tr>\n",
              "    <tr>\n",
              "      <th>4</th>\n",
              "      <td>3</td>\n",
              "      <td>Foul</td>\n",
              "    </tr>\n",
              "    <tr>\n",
              "      <th>5</th>\n",
              "      <td>4</td>\n",
              "      <td>Yellow card</td>\n",
              "    </tr>\n",
              "    <tr>\n",
              "      <th>6</th>\n",
              "      <td>5</td>\n",
              "      <td>Second yellow card</td>\n",
              "    </tr>\n",
              "    <tr>\n",
              "      <th>7</th>\n",
              "      <td>6</td>\n",
              "      <td>Red card</td>\n",
              "    </tr>\n",
              "    <tr>\n",
              "      <th>8</th>\n",
              "      <td>7</td>\n",
              "      <td>Substitution</td>\n",
              "    </tr>\n",
              "    <tr>\n",
              "      <th>9</th>\n",
              "      <td>8</td>\n",
              "      <td>Free kick won</td>\n",
              "    </tr>\n",
              "    <tr>\n",
              "      <th>10</th>\n",
              "      <td>9</td>\n",
              "      <td>Offside</td>\n",
              "    </tr>\n",
              "    <tr>\n",
              "      <th>11</th>\n",
              "      <td>10</td>\n",
              "      <td>Hand ball</td>\n",
              "    </tr>\n",
              "    <tr>\n",
              "      <th>12</th>\n",
              "      <td>11</td>\n",
              "      <td>Penalty conceded</td>\n",
              "    </tr>\n",
              "  </tbody>\n",
              "</table>\n",
              "</div>"
            ],
            "text/plain": [
              "   num              events\n",
              "1    0        Announcement\n",
              "2    1             Attempt\n",
              "3    2              Corner\n",
              "4    3                Foul\n",
              "5    4         Yellow card\n",
              "6    5  Second yellow card\n",
              "7    6            Red card\n",
              "8    7        Substitution\n",
              "9    8       Free kick won\n",
              "10   9             Offside\n",
              "11  10           Hand ball\n",
              "12  11    Penalty conceded"
            ]
          },
          "metadata": {
            "tags": []
          },
          "execution_count": 17
        }
      ]
    },
    {
      "cell_type": "code",
      "metadata": {
        "id": "_9QmqFKNWyTy",
        "colab_type": "code",
        "outputId": "22ad1001-3a73-46ab-96bd-70af9a67da09",
        "colab": {
          "base_uri": "https://localhost:8080/",
          "height": 167
        }
      },
      "source": [
        "event_type_2"
      ],
      "execution_count": 0,
      "outputs": [
        {
          "output_type": "execute_result",
          "data": {
            "text/html": [
              "<div>\n",
              "<style scoped>\n",
              "    .dataframe tbody tr th:only-of-type {\n",
              "        vertical-align: middle;\n",
              "    }\n",
              "\n",
              "    .dataframe tbody tr th {\n",
              "        vertical-align: top;\n",
              "    }\n",
              "\n",
              "    .dataframe thead th {\n",
              "        text-align: right;\n",
              "    }\n",
              "</style>\n",
              "<table border=\"1\" class=\"dataframe\">\n",
              "  <thead>\n",
              "    <tr style=\"text-align: right;\">\n",
              "      <th></th>\n",
              "      <th>num</th>\n",
              "      <th>events</th>\n",
              "    </tr>\n",
              "  </thead>\n",
              "  <tbody>\n",
              "    <tr>\n",
              "      <th>14</th>\n",
              "      <td>12</td>\n",
              "      <td>Key Pass</td>\n",
              "    </tr>\n",
              "    <tr>\n",
              "      <th>15</th>\n",
              "      <td>13</td>\n",
              "      <td>Failed through ball</td>\n",
              "    </tr>\n",
              "    <tr>\n",
              "      <th>16</th>\n",
              "      <td>14</td>\n",
              "      <td>Sending off</td>\n",
              "    </tr>\n",
              "    <tr>\n",
              "      <th>17</th>\n",
              "      <td>15</td>\n",
              "      <td>Own goal</td>\n",
              "    </tr>\n",
              "  </tbody>\n",
              "</table>\n",
              "</div>"
            ],
            "text/plain": [
              "   num               events\n",
              "14  12             Key Pass\n",
              "15  13  Failed through ball\n",
              "16  14          Sending off\n",
              "17  15             Own goal"
            ]
          },
          "metadata": {
            "tags": []
          },
          "execution_count": 18
        }
      ]
    },
    {
      "cell_type": "code",
      "metadata": {
        "id": "qVSnDXwnW4E2",
        "colab_type": "code",
        "outputId": "dd5414af-768b-498e-8486-9ac9df72f1a6",
        "colab": {
          "base_uri": "https://localhost:8080/",
          "height": 107
        }
      },
      "source": [
        "side"
      ],
      "execution_count": 0,
      "outputs": [
        {
          "output_type": "execute_result",
          "data": {
            "text/html": [
              "<div>\n",
              "<style scoped>\n",
              "    .dataframe tbody tr th:only-of-type {\n",
              "        vertical-align: middle;\n",
              "    }\n",
              "\n",
              "    .dataframe tbody tr th {\n",
              "        vertical-align: top;\n",
              "    }\n",
              "\n",
              "    .dataframe thead th {\n",
              "        text-align: right;\n",
              "    }\n",
              "</style>\n",
              "<table border=\"1\" class=\"dataframe\">\n",
              "  <thead>\n",
              "    <tr style=\"text-align: right;\">\n",
              "      <th></th>\n",
              "      <th>num</th>\n",
              "      <th>events</th>\n",
              "    </tr>\n",
              "  </thead>\n",
              "  <tbody>\n",
              "    <tr>\n",
              "      <th>19</th>\n",
              "      <td>1</td>\n",
              "      <td>Home</td>\n",
              "    </tr>\n",
              "    <tr>\n",
              "      <th>20</th>\n",
              "      <td>2</td>\n",
              "      <td>Away</td>\n",
              "    </tr>\n",
              "  </tbody>\n",
              "</table>\n",
              "</div>"
            ],
            "text/plain": [
              "   num events\n",
              "19   1   Home\n",
              "20   2   Away"
            ]
          },
          "metadata": {
            "tags": []
          },
          "execution_count": 19
        }
      ]
    },
    {
      "cell_type": "code",
      "metadata": {
        "id": "aH5wg4MqW6aE",
        "colab_type": "code",
        "outputId": "9fac82ba-6dcc-47f9-fa16-b734473e8f78",
        "colab": {
          "base_uri": "https://localhost:8080/",
          "height": 437
        }
      },
      "source": [
        "shot_place"
      ],
      "execution_count": 0,
      "outputs": [
        {
          "output_type": "execute_result",
          "data": {
            "text/html": [
              "<div>\n",
              "<style scoped>\n",
              "    .dataframe tbody tr th:only-of-type {\n",
              "        vertical-align: middle;\n",
              "    }\n",
              "\n",
              "    .dataframe tbody tr th {\n",
              "        vertical-align: top;\n",
              "    }\n",
              "\n",
              "    .dataframe thead th {\n",
              "        text-align: right;\n",
              "    }\n",
              "</style>\n",
              "<table border=\"1\" class=\"dataframe\">\n",
              "  <thead>\n",
              "    <tr style=\"text-align: right;\">\n",
              "      <th></th>\n",
              "      <th>num</th>\n",
              "      <th>events</th>\n",
              "    </tr>\n",
              "  </thead>\n",
              "  <tbody>\n",
              "    <tr>\n",
              "      <th>22</th>\n",
              "      <td>1</td>\n",
              "      <td>Bit too high</td>\n",
              "    </tr>\n",
              "    <tr>\n",
              "      <th>23</th>\n",
              "      <td>2</td>\n",
              "      <td>Blocked</td>\n",
              "    </tr>\n",
              "    <tr>\n",
              "      <th>24</th>\n",
              "      <td>3</td>\n",
              "      <td>Bottom left corner</td>\n",
              "    </tr>\n",
              "    <tr>\n",
              "      <th>25</th>\n",
              "      <td>4</td>\n",
              "      <td>Bottom right corner</td>\n",
              "    </tr>\n",
              "    <tr>\n",
              "      <th>26</th>\n",
              "      <td>5</td>\n",
              "      <td>Centre of the goal</td>\n",
              "    </tr>\n",
              "    <tr>\n",
              "      <th>27</th>\n",
              "      <td>6</td>\n",
              "      <td>High and wide</td>\n",
              "    </tr>\n",
              "    <tr>\n",
              "      <th>28</th>\n",
              "      <td>7</td>\n",
              "      <td>Hits the bar</td>\n",
              "    </tr>\n",
              "    <tr>\n",
              "      <th>29</th>\n",
              "      <td>8</td>\n",
              "      <td>Misses to the left</td>\n",
              "    </tr>\n",
              "    <tr>\n",
              "      <th>30</th>\n",
              "      <td>9</td>\n",
              "      <td>Misses to the right</td>\n",
              "    </tr>\n",
              "    <tr>\n",
              "      <th>31</th>\n",
              "      <td>10</td>\n",
              "      <td>Too high</td>\n",
              "    </tr>\n",
              "    <tr>\n",
              "      <th>32</th>\n",
              "      <td>11</td>\n",
              "      <td>Top centre of the goal</td>\n",
              "    </tr>\n",
              "    <tr>\n",
              "      <th>33</th>\n",
              "      <td>12</td>\n",
              "      <td>Top left corner</td>\n",
              "    </tr>\n",
              "    <tr>\n",
              "      <th>34</th>\n",
              "      <td>13</td>\n",
              "      <td>Top right corner</td>\n",
              "    </tr>\n",
              "  </tbody>\n",
              "</table>\n",
              "</div>"
            ],
            "text/plain": [
              "   num                  events\n",
              "22   1            Bit too high\n",
              "23   2                 Blocked\n",
              "24   3      Bottom left corner\n",
              "25   4     Bottom right corner\n",
              "26   5      Centre of the goal\n",
              "27   6           High and wide\n",
              "28   7            Hits the bar\n",
              "29   8      Misses to the left\n",
              "30   9     Misses to the right\n",
              "31  10                Too high\n",
              "32  11  Top centre of the goal\n",
              "33  12         Top left corner\n",
              "34  13        Top right corner"
            ]
          },
          "metadata": {
            "tags": []
          },
          "execution_count": 20
        }
      ]
    },
    {
      "cell_type": "code",
      "metadata": {
        "id": "k2cE-0LvW80w",
        "colab_type": "code",
        "outputId": "d312d1a0-dee4-49af-d8e5-59a390122596",
        "colab": {
          "base_uri": "https://localhost:8080/",
          "height": 167
        }
      },
      "source": [
        "shot_outcome"
      ],
      "execution_count": 0,
      "outputs": [
        {
          "output_type": "execute_result",
          "data": {
            "text/html": [
              "<div>\n",
              "<style scoped>\n",
              "    .dataframe tbody tr th:only-of-type {\n",
              "        vertical-align: middle;\n",
              "    }\n",
              "\n",
              "    .dataframe tbody tr th {\n",
              "        vertical-align: top;\n",
              "    }\n",
              "\n",
              "    .dataframe thead th {\n",
              "        text-align: right;\n",
              "    }\n",
              "</style>\n",
              "<table border=\"1\" class=\"dataframe\">\n",
              "  <thead>\n",
              "    <tr style=\"text-align: right;\">\n",
              "      <th></th>\n",
              "      <th>num</th>\n",
              "      <th>events</th>\n",
              "    </tr>\n",
              "  </thead>\n",
              "  <tbody>\n",
              "    <tr>\n",
              "      <th>36</th>\n",
              "      <td>1</td>\n",
              "      <td>On target</td>\n",
              "    </tr>\n",
              "    <tr>\n",
              "      <th>37</th>\n",
              "      <td>2</td>\n",
              "      <td>Off target</td>\n",
              "    </tr>\n",
              "    <tr>\n",
              "      <th>38</th>\n",
              "      <td>3</td>\n",
              "      <td>Blocked</td>\n",
              "    </tr>\n",
              "    <tr>\n",
              "      <th>39</th>\n",
              "      <td>4</td>\n",
              "      <td>Hit the bar</td>\n",
              "    </tr>\n",
              "  </tbody>\n",
              "</table>\n",
              "</div>"
            ],
            "text/plain": [
              "   num       events\n",
              "36   1    On target\n",
              "37   2   Off target\n",
              "38   3      Blocked\n",
              "39   4  Hit the bar"
            ]
          },
          "metadata": {
            "tags": []
          },
          "execution_count": 21
        }
      ]
    },
    {
      "cell_type": "code",
      "metadata": {
        "id": "5DscbJZmW_Yh",
        "colab_type": "code",
        "outputId": "c7cb99e6-9acc-4906-f140-3ec2700e01dd",
        "colab": {
          "base_uri": "https://localhost:8080/",
          "height": 617
        }
      },
      "source": [
        "location"
      ],
      "execution_count": 0,
      "outputs": [
        {
          "output_type": "execute_result",
          "data": {
            "text/html": [
              "<div>\n",
              "<style scoped>\n",
              "    .dataframe tbody tr th:only-of-type {\n",
              "        vertical-align: middle;\n",
              "    }\n",
              "\n",
              "    .dataframe tbody tr th {\n",
              "        vertical-align: top;\n",
              "    }\n",
              "\n",
              "    .dataframe thead th {\n",
              "        text-align: right;\n",
              "    }\n",
              "</style>\n",
              "<table border=\"1\" class=\"dataframe\">\n",
              "  <thead>\n",
              "    <tr style=\"text-align: right;\">\n",
              "      <th></th>\n",
              "      <th>num</th>\n",
              "      <th>events</th>\n",
              "    </tr>\n",
              "  </thead>\n",
              "  <tbody>\n",
              "    <tr>\n",
              "      <th>41</th>\n",
              "      <td>1</td>\n",
              "      <td>Attacking half</td>\n",
              "    </tr>\n",
              "    <tr>\n",
              "      <th>42</th>\n",
              "      <td>2</td>\n",
              "      <td>Defensive half</td>\n",
              "    </tr>\n",
              "    <tr>\n",
              "      <th>43</th>\n",
              "      <td>3</td>\n",
              "      <td>Centre of the box</td>\n",
              "    </tr>\n",
              "    <tr>\n",
              "      <th>44</th>\n",
              "      <td>4</td>\n",
              "      <td>Left wing</td>\n",
              "    </tr>\n",
              "    <tr>\n",
              "      <th>45</th>\n",
              "      <td>5</td>\n",
              "      <td>Right wing</td>\n",
              "    </tr>\n",
              "    <tr>\n",
              "      <th>46</th>\n",
              "      <td>6</td>\n",
              "      <td>Difficult angle and long range</td>\n",
              "    </tr>\n",
              "    <tr>\n",
              "      <th>47</th>\n",
              "      <td>7</td>\n",
              "      <td>Difficult angle on the left</td>\n",
              "    </tr>\n",
              "    <tr>\n",
              "      <th>48</th>\n",
              "      <td>8</td>\n",
              "      <td>Difficult angle on the right</td>\n",
              "    </tr>\n",
              "    <tr>\n",
              "      <th>49</th>\n",
              "      <td>9</td>\n",
              "      <td>Left side of the box</td>\n",
              "    </tr>\n",
              "    <tr>\n",
              "      <th>50</th>\n",
              "      <td>10</td>\n",
              "      <td>Left side of the six yard box</td>\n",
              "    </tr>\n",
              "    <tr>\n",
              "      <th>51</th>\n",
              "      <td>11</td>\n",
              "      <td>Right side of the box</td>\n",
              "    </tr>\n",
              "    <tr>\n",
              "      <th>52</th>\n",
              "      <td>12</td>\n",
              "      <td>Right side of the six yard box</td>\n",
              "    </tr>\n",
              "    <tr>\n",
              "      <th>53</th>\n",
              "      <td>13</td>\n",
              "      <td>Very close range</td>\n",
              "    </tr>\n",
              "    <tr>\n",
              "      <th>54</th>\n",
              "      <td>14</td>\n",
              "      <td>Penalty spot</td>\n",
              "    </tr>\n",
              "    <tr>\n",
              "      <th>55</th>\n",
              "      <td>15</td>\n",
              "      <td>Outside the box</td>\n",
              "    </tr>\n",
              "    <tr>\n",
              "      <th>56</th>\n",
              "      <td>16</td>\n",
              "      <td>Long range</td>\n",
              "    </tr>\n",
              "    <tr>\n",
              "      <th>57</th>\n",
              "      <td>17</td>\n",
              "      <td>More than 35 yards</td>\n",
              "    </tr>\n",
              "    <tr>\n",
              "      <th>58</th>\n",
              "      <td>18</td>\n",
              "      <td>More than 40 yards</td>\n",
              "    </tr>\n",
              "    <tr>\n",
              "      <th>59</th>\n",
              "      <td>19</td>\n",
              "      <td>Not recorded</td>\n",
              "    </tr>\n",
              "  </tbody>\n",
              "</table>\n",
              "</div>"
            ],
            "text/plain": [
              "   num                          events\n",
              "41   1                  Attacking half\n",
              "42   2                  Defensive half\n",
              "43   3               Centre of the box\n",
              "44   4                       Left wing\n",
              "45   5                      Right wing\n",
              "46   6  Difficult angle and long range\n",
              "47   7     Difficult angle on the left\n",
              "48   8    Difficult angle on the right\n",
              "49   9            Left side of the box\n",
              "50  10   Left side of the six yard box\n",
              "51  11           Right side of the box\n",
              "52  12  Right side of the six yard box\n",
              "53  13                Very close range\n",
              "54  14                    Penalty spot\n",
              "55  15                 Outside the box\n",
              "56  16                      Long range\n",
              "57  17              More than 35 yards\n",
              "58  18              More than 40 yards\n",
              "59  19                    Not recorded"
            ]
          },
          "metadata": {
            "tags": []
          },
          "execution_count": 22
        }
      ]
    },
    {
      "cell_type": "code",
      "metadata": {
        "id": "H3keN9n7XBnH",
        "colab_type": "code",
        "outputId": "35065166-23c6-4773-d203-7ae70389b0a6",
        "colab": {
          "base_uri": "https://localhost:8080/",
          "height": 137
        }
      },
      "source": [
        "bodypart"
      ],
      "execution_count": 0,
      "outputs": [
        {
          "output_type": "execute_result",
          "data": {
            "text/html": [
              "<div>\n",
              "<style scoped>\n",
              "    .dataframe tbody tr th:only-of-type {\n",
              "        vertical-align: middle;\n",
              "    }\n",
              "\n",
              "    .dataframe tbody tr th {\n",
              "        vertical-align: top;\n",
              "    }\n",
              "\n",
              "    .dataframe thead th {\n",
              "        text-align: right;\n",
              "    }\n",
              "</style>\n",
              "<table border=\"1\" class=\"dataframe\">\n",
              "  <thead>\n",
              "    <tr style=\"text-align: right;\">\n",
              "      <th></th>\n",
              "      <th>num</th>\n",
              "      <th>events</th>\n",
              "    </tr>\n",
              "  </thead>\n",
              "  <tbody>\n",
              "    <tr>\n",
              "      <th>61</th>\n",
              "      <td>1</td>\n",
              "      <td>right foot</td>\n",
              "    </tr>\n",
              "    <tr>\n",
              "      <th>62</th>\n",
              "      <td>2</td>\n",
              "      <td>left foot</td>\n",
              "    </tr>\n",
              "    <tr>\n",
              "      <th>63</th>\n",
              "      <td>3</td>\n",
              "      <td>head</td>\n",
              "    </tr>\n",
              "  </tbody>\n",
              "</table>\n",
              "</div>"
            ],
            "text/plain": [
              "   num      events\n",
              "61   1  right foot\n",
              "62   2   left foot\n",
              "63   3        head"
            ]
          },
          "metadata": {
            "tags": []
          },
          "execution_count": 23
        }
      ]
    },
    {
      "cell_type": "code",
      "metadata": {
        "id": "wY-78ZUKXDul",
        "colab_type": "code",
        "outputId": "26b74d28-0e64-473a-993d-b59f625392c9",
        "colab": {
          "base_uri": "https://localhost:8080/",
          "height": 197
        }
      },
      "source": [
        "assist_method"
      ],
      "execution_count": 0,
      "outputs": [
        {
          "output_type": "execute_result",
          "data": {
            "text/html": [
              "<div>\n",
              "<style scoped>\n",
              "    .dataframe tbody tr th:only-of-type {\n",
              "        vertical-align: middle;\n",
              "    }\n",
              "\n",
              "    .dataframe tbody tr th {\n",
              "        vertical-align: top;\n",
              "    }\n",
              "\n",
              "    .dataframe thead th {\n",
              "        text-align: right;\n",
              "    }\n",
              "</style>\n",
              "<table border=\"1\" class=\"dataframe\">\n",
              "  <thead>\n",
              "    <tr style=\"text-align: right;\">\n",
              "      <th></th>\n",
              "      <th>num</th>\n",
              "      <th>events</th>\n",
              "    </tr>\n",
              "  </thead>\n",
              "  <tbody>\n",
              "    <tr>\n",
              "      <th>65</th>\n",
              "      <td>0</td>\n",
              "      <td>None</td>\n",
              "    </tr>\n",
              "    <tr>\n",
              "      <th>66</th>\n",
              "      <td>1</td>\n",
              "      <td>Pass</td>\n",
              "    </tr>\n",
              "    <tr>\n",
              "      <th>67</th>\n",
              "      <td>2</td>\n",
              "      <td>Cross</td>\n",
              "    </tr>\n",
              "    <tr>\n",
              "      <th>68</th>\n",
              "      <td>3</td>\n",
              "      <td>Headed pass</td>\n",
              "    </tr>\n",
              "    <tr>\n",
              "      <th>69</th>\n",
              "      <td>4</td>\n",
              "      <td>Through ball</td>\n",
              "    </tr>\n",
              "  </tbody>\n",
              "</table>\n",
              "</div>"
            ],
            "text/plain": [
              "   num        events\n",
              "65   0          None\n",
              "66   1          Pass\n",
              "67   2         Cross\n",
              "68   3   Headed pass\n",
              "69   4  Through ball"
            ]
          },
          "metadata": {
            "tags": []
          },
          "execution_count": 24
        }
      ]
    },
    {
      "cell_type": "code",
      "metadata": {
        "id": "W1Wnd-asXGZW",
        "colab_type": "code",
        "outputId": "18074e40-1b04-44f5-dc57-ce494c0a25e4",
        "colab": {
          "base_uri": "https://localhost:8080/",
          "height": 167
        }
      },
      "source": [
        "situation"
      ],
      "execution_count": 0,
      "outputs": [
        {
          "output_type": "execute_result",
          "data": {
            "text/html": [
              "<div>\n",
              "<style scoped>\n",
              "    .dataframe tbody tr th:only-of-type {\n",
              "        vertical-align: middle;\n",
              "    }\n",
              "\n",
              "    .dataframe tbody tr th {\n",
              "        vertical-align: top;\n",
              "    }\n",
              "\n",
              "    .dataframe thead th {\n",
              "        text-align: right;\n",
              "    }\n",
              "</style>\n",
              "<table border=\"1\" class=\"dataframe\">\n",
              "  <thead>\n",
              "    <tr style=\"text-align: right;\">\n",
              "      <th></th>\n",
              "      <th>num</th>\n",
              "      <th>events</th>\n",
              "    </tr>\n",
              "  </thead>\n",
              "  <tbody>\n",
              "    <tr>\n",
              "      <th>71</th>\n",
              "      <td>1</td>\n",
              "      <td>Open play</td>\n",
              "    </tr>\n",
              "    <tr>\n",
              "      <th>72</th>\n",
              "      <td>2</td>\n",
              "      <td>Set piece</td>\n",
              "    </tr>\n",
              "    <tr>\n",
              "      <th>73</th>\n",
              "      <td>3</td>\n",
              "      <td>Corner</td>\n",
              "    </tr>\n",
              "    <tr>\n",
              "      <th>74</th>\n",
              "      <td>4</td>\n",
              "      <td>Free kick</td>\n",
              "    </tr>\n",
              "  </tbody>\n",
              "</table>\n",
              "</div>"
            ],
            "text/plain": [
              "   num     events\n",
              "71   1  Open play\n",
              "72   2  Set piece\n",
              "73   3     Corner\n",
              "74   4  Free kick"
            ]
          },
          "metadata": {
            "tags": []
          },
          "execution_count": 25
        }
      ]
    },
    {
      "cell_type": "markdown",
      "metadata": {
        "id": "JX491J030kFD",
        "colab_type": "text"
      },
      "source": [
        ""
      ]
    },
    {
      "cell_type": "markdown",
      "metadata": {
        "id": "LZ2-FSC60kqU",
        "colab_type": "text"
      },
      "source": [
        "###Categorizing Events"
      ]
    },
    {
      "cell_type": "code",
      "metadata": {
        "id": "13y-IePrXJ7R",
        "colab_type": "code",
        "outputId": "2811cdbe-5abd-4727-d385-8efe6a542ade",
        "colab": {
          "base_uri": "https://localhost:8080/",
          "height": 217
        }
      },
      "source": [
        "shots = events[(events.event_type==1)]\n",
        "shots_prediction = shots.iloc[:,-6:]\n",
        "dummies = pd.get_dummies(shots_prediction, columns=['location', 'bodypart','assist_method', 'situation'])\n",
        "dummies.columns = ['is_goal', 'fast_break', 'loc_centre_box', 'loc_diff_angle_lr', 'diff_angle_left', 'diff_angle_right', 'left_side_box', 'left_side_6ybox', 'right_side_box', 'right_side_6ybox', 'close_range', 'penalty', 'outside_box', 'long_range', 'more_35y', 'more_40y', 'not_recorded', 'right_foot', 'left_foot', 'header', 'no_assist', 'assist_pass', 'assist_cross', 'assist_header', 'assist_through_ball', 'open_play', 'set_piece', 'corner', 'free_kick']\n",
        "dummies.head()"
      ],
      "execution_count": 0,
      "outputs": [
        {
          "output_type": "execute_result",
          "data": {
            "text/html": [
              "<div>\n",
              "<style scoped>\n",
              "    .dataframe tbody tr th:only-of-type {\n",
              "        vertical-align: middle;\n",
              "    }\n",
              "\n",
              "    .dataframe tbody tr th {\n",
              "        vertical-align: top;\n",
              "    }\n",
              "\n",
              "    .dataframe thead th {\n",
              "        text-align: right;\n",
              "    }\n",
              "</style>\n",
              "<table border=\"1\" class=\"dataframe\">\n",
              "  <thead>\n",
              "    <tr style=\"text-align: right;\">\n",
              "      <th></th>\n",
              "      <th>is_goal</th>\n",
              "      <th>fast_break</th>\n",
              "      <th>loc_centre_box</th>\n",
              "      <th>loc_diff_angle_lr</th>\n",
              "      <th>diff_angle_left</th>\n",
              "      <th>diff_angle_right</th>\n",
              "      <th>left_side_box</th>\n",
              "      <th>left_side_6ybox</th>\n",
              "      <th>right_side_box</th>\n",
              "      <th>right_side_6ybox</th>\n",
              "      <th>close_range</th>\n",
              "      <th>penalty</th>\n",
              "      <th>outside_box</th>\n",
              "      <th>long_range</th>\n",
              "      <th>more_35y</th>\n",
              "      <th>more_40y</th>\n",
              "      <th>not_recorded</th>\n",
              "      <th>right_foot</th>\n",
              "      <th>left_foot</th>\n",
              "      <th>header</th>\n",
              "      <th>no_assist</th>\n",
              "      <th>assist_pass</th>\n",
              "      <th>assist_cross</th>\n",
              "      <th>assist_header</th>\n",
              "      <th>assist_through_ball</th>\n",
              "      <th>open_play</th>\n",
              "      <th>set_piece</th>\n",
              "      <th>corner</th>\n",
              "      <th>free_kick</th>\n",
              "    </tr>\n",
              "  </thead>\n",
              "  <tbody>\n",
              "    <tr>\n",
              "      <th>0</th>\n",
              "      <td>0</td>\n",
              "      <td>0</td>\n",
              "      <td>0</td>\n",
              "      <td>0</td>\n",
              "      <td>0</td>\n",
              "      <td>0</td>\n",
              "      <td>1</td>\n",
              "      <td>0</td>\n",
              "      <td>0</td>\n",
              "      <td>0</td>\n",
              "      <td>0</td>\n",
              "      <td>0</td>\n",
              "      <td>0</td>\n",
              "      <td>0</td>\n",
              "      <td>0</td>\n",
              "      <td>0</td>\n",
              "      <td>0</td>\n",
              "      <td>0</td>\n",
              "      <td>1</td>\n",
              "      <td>0</td>\n",
              "      <td>0</td>\n",
              "      <td>1</td>\n",
              "      <td>0</td>\n",
              "      <td>0</td>\n",
              "      <td>0</td>\n",
              "      <td>1</td>\n",
              "      <td>0</td>\n",
              "      <td>0</td>\n",
              "      <td>0</td>\n",
              "    </tr>\n",
              "    <tr>\n",
              "      <th>11</th>\n",
              "      <td>0</td>\n",
              "      <td>0</td>\n",
              "      <td>0</td>\n",
              "      <td>0</td>\n",
              "      <td>0</td>\n",
              "      <td>0</td>\n",
              "      <td>0</td>\n",
              "      <td>0</td>\n",
              "      <td>0</td>\n",
              "      <td>0</td>\n",
              "      <td>0</td>\n",
              "      <td>0</td>\n",
              "      <td>1</td>\n",
              "      <td>0</td>\n",
              "      <td>0</td>\n",
              "      <td>0</td>\n",
              "      <td>0</td>\n",
              "      <td>1</td>\n",
              "      <td>0</td>\n",
              "      <td>0</td>\n",
              "      <td>0</td>\n",
              "      <td>1</td>\n",
              "      <td>0</td>\n",
              "      <td>0</td>\n",
              "      <td>0</td>\n",
              "      <td>1</td>\n",
              "      <td>0</td>\n",
              "      <td>0</td>\n",
              "      <td>0</td>\n",
              "    </tr>\n",
              "    <tr>\n",
              "      <th>13</th>\n",
              "      <td>1</td>\n",
              "      <td>0</td>\n",
              "      <td>0</td>\n",
              "      <td>0</td>\n",
              "      <td>0</td>\n",
              "      <td>0</td>\n",
              "      <td>1</td>\n",
              "      <td>0</td>\n",
              "      <td>0</td>\n",
              "      <td>0</td>\n",
              "      <td>0</td>\n",
              "      <td>0</td>\n",
              "      <td>0</td>\n",
              "      <td>0</td>\n",
              "      <td>0</td>\n",
              "      <td>0</td>\n",
              "      <td>0</td>\n",
              "      <td>0</td>\n",
              "      <td>1</td>\n",
              "      <td>0</td>\n",
              "      <td>0</td>\n",
              "      <td>1</td>\n",
              "      <td>0</td>\n",
              "      <td>0</td>\n",
              "      <td>0</td>\n",
              "      <td>1</td>\n",
              "      <td>0</td>\n",
              "      <td>0</td>\n",
              "      <td>0</td>\n",
              "    </tr>\n",
              "    <tr>\n",
              "      <th>14</th>\n",
              "      <td>0</td>\n",
              "      <td>0</td>\n",
              "      <td>0</td>\n",
              "      <td>0</td>\n",
              "      <td>0</td>\n",
              "      <td>0</td>\n",
              "      <td>0</td>\n",
              "      <td>0</td>\n",
              "      <td>0</td>\n",
              "      <td>0</td>\n",
              "      <td>0</td>\n",
              "      <td>0</td>\n",
              "      <td>1</td>\n",
              "      <td>0</td>\n",
              "      <td>0</td>\n",
              "      <td>0</td>\n",
              "      <td>0</td>\n",
              "      <td>1</td>\n",
              "      <td>0</td>\n",
              "      <td>0</td>\n",
              "      <td>1</td>\n",
              "      <td>0</td>\n",
              "      <td>0</td>\n",
              "      <td>0</td>\n",
              "      <td>0</td>\n",
              "      <td>1</td>\n",
              "      <td>0</td>\n",
              "      <td>0</td>\n",
              "      <td>0</td>\n",
              "    </tr>\n",
              "    <tr>\n",
              "      <th>17</th>\n",
              "      <td>0</td>\n",
              "      <td>0</td>\n",
              "      <td>0</td>\n",
              "      <td>0</td>\n",
              "      <td>0</td>\n",
              "      <td>0</td>\n",
              "      <td>0</td>\n",
              "      <td>0</td>\n",
              "      <td>0</td>\n",
              "      <td>0</td>\n",
              "      <td>0</td>\n",
              "      <td>0</td>\n",
              "      <td>1</td>\n",
              "      <td>0</td>\n",
              "      <td>0</td>\n",
              "      <td>0</td>\n",
              "      <td>0</td>\n",
              "      <td>1</td>\n",
              "      <td>0</td>\n",
              "      <td>0</td>\n",
              "      <td>1</td>\n",
              "      <td>0</td>\n",
              "      <td>0</td>\n",
              "      <td>0</td>\n",
              "      <td>0</td>\n",
              "      <td>1</td>\n",
              "      <td>0</td>\n",
              "      <td>0</td>\n",
              "      <td>0</td>\n",
              "    </tr>\n",
              "  </tbody>\n",
              "</table>\n",
              "</div>"
            ],
            "text/plain": [
              "    is_goal  fast_break  loc_centre_box  loc_diff_angle_lr  diff_angle_left  diff_angle_right  left_side_box  left_side_6ybox  right_side_box  right_side_6ybox  close_range  penalty  outside_box  long_range  more_35y  more_40y  not_recorded  right_foot  left_foot  header  no_assist  assist_pass  assist_cross  assist_header  assist_through_ball  open_play  set_piece  corner  free_kick\n",
              "0         0           0               0                  0                0                 0              1                0               0                 0            0        0            0           0         0         0             0           0          1       0          0            1             0              0                    0          1          0       0          0\n",
              "11        0           0               0                  0                0                 0              0                0               0                 0            0        0            1           0         0         0             0           1          0       0          0            1             0              0                    0          1          0       0          0\n",
              "13        1           0               0                  0                0                 0              1                0               0                 0            0        0            0           0         0         0             0           0          1       0          0            1             0              0                    0          1          0       0          0\n",
              "14        0           0               0                  0                0                 0              0                0               0                 0            0        0            1           0         0         0             0           1          0       0          1            0             0              0                    0          1          0       0          0\n",
              "17        0           0               0                  0                0                 0              0                0               0                 0            0        0            1           0         0         0             0           1          0       0          1            0             0              0                    0          1          0       0          0"
            ]
          },
          "metadata": {
            "tags": []
          },
          "execution_count": 27
        }
      ]
    },
    {
      "cell_type": "code",
      "metadata": {
        "id": "yigK63vP4_Hb",
        "colab_type": "code",
        "outputId": "9078d2c9-a2a4-4157-94c6-278ffc84b58d",
        "colab": {
          "base_uri": "https://localhost:8080/",
          "height": 52
        }
      },
      "source": [
        "X = dummies.iloc[:,1:]\n",
        "y = dummies.iloc[:,0]\n",
        "print(X.shape)\n",
        "print(y.shape)"
      ],
      "execution_count": 0,
      "outputs": [
        {
          "output_type": "stream",
          "text": [
            "(229135, 28)\n",
            "(229135,)\n"
          ],
          "name": "stdout"
        }
      ]
    },
    {
      "cell_type": "markdown",
      "metadata": {
        "id": "HrX0Wo-pquBu",
        "colab_type": "text"
      },
      "source": [
        "So we have a total of 229,135 shots. For each shot, we have 28 different characteristics that describe it. All of these 28 characteristics are binary, so they just indicate Yes or No to a certain characteristics in the shot.\n",
        "\n",
        "Now we will divide our X and y into two different sets for training and testing. I will use 65% of them for training our model and 35% por testing it. This is because we have enough datapoints (in my opinion). So 65% should be enough to train it properly, and I'd rather have as many shots left as possible for pure testing later."
      ]
    },
    {
      "cell_type": "code",
      "metadata": {
        "id": "ChxxggETqZUI",
        "colab_type": "code",
        "colab": {}
      },
      "source": [
        "X_train, X_test, y_train, y_test = train_test_split(X, y, test_size=0.35, random_state=1)"
      ],
      "execution_count": 0,
      "outputs": []
    },
    {
      "cell_type": "markdown",
      "metadata": {
        "id": "0QGKxKbhrZoU",
        "colab_type": "text"
      },
      "source": [
        "### XGB Classifier"
      ]
    },
    {
      "cell_type": "code",
      "metadata": {
        "id": "vOM1FbDQq3Cs",
        "colab_type": "code",
        "outputId": "3955d7da-46e6-407e-812b-0285eaec089a",
        "colab": {
          "base_uri": "https://localhost:8080/",
          "height": 141
        }
      },
      "source": [
        "classifier = XGBClassifier(objective='binary:logistic', max_depth=5, n_estimators=100)\n",
        "classifier.fit(X_train, y_train)"
      ],
      "execution_count": 0,
      "outputs": [
        {
          "output_type": "execute_result",
          "data": {
            "text/plain": [
              "XGBClassifier(base_score=0.5, booster='gbtree', colsample_bylevel=1,\n",
              "              colsample_bynode=1, colsample_bytree=1, gamma=0,\n",
              "              learning_rate=0.1, max_delta_step=0, max_depth=5,\n",
              "              min_child_weight=1, missing=None, n_estimators=100, n_jobs=1,\n",
              "              nthread=None, objective='binary:logistic', random_state=0,\n",
              "              reg_alpha=0, reg_lambda=1, scale_pos_weight=1, seed=None,\n",
              "              silent=None, subsample=1, verbosity=1)"
            ]
          },
          "metadata": {
            "tags": []
          },
          "execution_count": 32
        }
      ]
    },
    {
      "cell_type": "code",
      "metadata": {
        "id": "YpWP9YiWrizK",
        "colab_type": "code",
        "outputId": "14563cad-fae3-4f02-d0f2-6ed32e433f57",
        "colab": {
          "base_uri": "https://localhost:8080/",
          "height": 70
        }
      },
      "source": [
        "accuracy = classifier.score(X_test, y_test)\n",
        "y_pred = classifier.predict_proba(X_test)\n",
        "predict = classifier.predict(X_test)\n",
        "y_total = y_train.count()\n",
        "y_positive = y_train.sum()\n",
        "auc_roc = roc_auc_score(y_test, y_pred[:, 1])\n",
        "print('The training set contains {} examples (shots) of which {} are positives (goals).'.format(y_total, y_positive))\n",
        "print('The accuracy of classifying whether a shot is goal or not is {:.2f} %'.format(accuracy*100))\n",
        "print('Our classifier obtains an AUC-ROC of {:.4f}.'.format(auc_roc))"
      ],
      "execution_count": 0,
      "outputs": [
        {
          "output_type": "stream",
          "text": [
            "The training set contains 148937 examples (shots) of which 15937 are positives (goals).\n",
            "The accuracy of classifying whether a shot is goal or not is 91.10 %\n",
            "Our classifier obtains an AUC-ROC of 0.8193.\n"
          ],
          "name": "stdout"
        }
      ]
    },
    {
      "cell_type": "code",
      "metadata": {
        "id": "3Px8ZbvFrpmF",
        "colab_type": "code",
        "outputId": "49b1803a-309d-46c0-c8be-5ee4f998a940",
        "colab": {
          "base_uri": "https://localhost:8080/",
          "height": 70
        }
      },
      "source": [
        "auc_pr_baseline = y_positive / y_total\n",
        "print('The baseline performance for AUC-PR is {:.2f}. This is the AUC-PR that what we would get by random guessing.'.format(auc_pr_baseline))\n",
        "\n",
        "auc_pr = average_precision_score(y_test, y_pred[:, 1])\n",
        "print('Our classifier obtains an AUC-PR of {:.4f}.'.format(auc_pr))\n",
        "cohen_kappa = cohen_kappa_score(y_test,predict)\n",
        "print('Our classifier obtains a Cohen Kappa of {:.4f}.'.format(cohen_kappa))"
      ],
      "execution_count": 0,
      "outputs": [
        {
          "output_type": "stream",
          "text": [
            "The baseline performance for AUC-PR is 0.11. This is the AUC-PR that what we would get by random guessing.\n",
            "Our classifier obtains an AUC-PR of 0.4741.\n",
            "Our classifier obtains a Cohen Kappa of 0.3484.\n"
          ],
          "name": "stdout"
        }
      ]
    },
    {
      "cell_type": "code",
      "metadata": {
        "id": "Ni7Jg4mUtFOt",
        "colab_type": "code",
        "outputId": "8db4d146-973d-4de8-a930-589726ac8b50",
        "colab": {
          "base_uri": "https://localhost:8080/",
          "height": 247
        }
      },
      "source": [
        "print('Confusion Matrix:')\n",
        "print(confusion_matrix(y_test,predict))\n",
        "print('Report:')\n",
        "print(classification_report(y_test,predict))"
      ],
      "execution_count": 0,
      "outputs": [
        {
          "output_type": "stream",
          "text": [
            "Confusion Matrix:\n",
            "[[70820   874]\n",
            " [ 6265  2239]]\n",
            "Report:\n",
            "              precision    recall  f1-score   support\n",
            "\n",
            "           0       0.92      0.99      0.95     71694\n",
            "           1       0.72      0.26      0.39      8504\n",
            "\n",
            "    accuracy                           0.91     80198\n",
            "   macro avg       0.82      0.63      0.67     80198\n",
            "weighted avg       0.90      0.91      0.89     80198\n",
            "\n"
          ],
          "name": "stdout"
        }
      ]
    },
    {
      "cell_type": "code",
      "metadata": {
        "id": "fyIA6RBktIEI",
        "colab_type": "code",
        "outputId": "683e3f0e-2ce5-4239-e005-3313ed881981",
        "colab": {
          "base_uri": "https://localhost:8080/",
          "height": 197
        }
      },
      "source": [
        "predictions = X_test.copy()\n",
        "predictions['true_goals'] = y_test\n",
        "predictions['expected_goals'] = y_pred[:,1]\n",
        "predictions['difference'] = predictions['expected_goals'] - predictions['true_goals']\n",
        "predictions = predictions.iloc[:,28:31]\n",
        "predictions.head()"
      ],
      "execution_count": 0,
      "outputs": [
        {
          "output_type": "execute_result",
          "data": {
            "text/html": [
              "<div>\n",
              "<style scoped>\n",
              "    .dataframe tbody tr th:only-of-type {\n",
              "        vertical-align: middle;\n",
              "    }\n",
              "\n",
              "    .dataframe tbody tr th {\n",
              "        vertical-align: top;\n",
              "    }\n",
              "\n",
              "    .dataframe thead th {\n",
              "        text-align: right;\n",
              "    }\n",
              "</style>\n",
              "<table border=\"1\" class=\"dataframe\">\n",
              "  <thead>\n",
              "    <tr style=\"text-align: right;\">\n",
              "      <th></th>\n",
              "      <th>true_goals</th>\n",
              "      <th>expected_goals</th>\n",
              "      <th>difference</th>\n",
              "    </tr>\n",
              "  </thead>\n",
              "  <tbody>\n",
              "    <tr>\n",
              "      <th>851561</th>\n",
              "      <td>0</td>\n",
              "      <td>0.174825</td>\n",
              "      <td>0.174825</td>\n",
              "    </tr>\n",
              "    <tr>\n",
              "      <th>744702</th>\n",
              "      <td>1</td>\n",
              "      <td>0.164725</td>\n",
              "      <td>-0.835275</td>\n",
              "    </tr>\n",
              "    <tr>\n",
              "      <th>661032</th>\n",
              "      <td>0</td>\n",
              "      <td>0.022478</td>\n",
              "      <td>0.022478</td>\n",
              "    </tr>\n",
              "    <tr>\n",
              "      <th>195074</th>\n",
              "      <td>0</td>\n",
              "      <td>0.174825</td>\n",
              "      <td>0.174825</td>\n",
              "    </tr>\n",
              "    <tr>\n",
              "      <th>742812</th>\n",
              "      <td>0</td>\n",
              "      <td>0.027675</td>\n",
              "      <td>0.027675</td>\n",
              "    </tr>\n",
              "  </tbody>\n",
              "</table>\n",
              "</div>"
            ],
            "text/plain": [
              "        true_goals  expected_goals  difference\n",
              "851561           0        0.174825    0.174825\n",
              "744702           1        0.164725   -0.835275\n",
              "661032           0        0.022478    0.022478\n",
              "195074           0        0.174825    0.174825\n",
              "742812           0        0.027675    0.027675"
            ]
          },
          "metadata": {
            "tags": []
          },
          "execution_count": 36
        }
      ]
    },
    {
      "cell_type": "markdown",
      "metadata": {
        "id": "buA-aoZUtN4H",
        "colab_type": "text"
      },
      "source": [
        "### Logistic Regression"
      ]
    },
    {
      "cell_type": "code",
      "metadata": {
        "id": "h0tfo4ZLtKaS",
        "colab_type": "code",
        "outputId": "48334ce5-779f-453d-a4d2-3ee3ee83ee03",
        "colab": {
          "base_uri": "https://localhost:8080/",
          "height": 105
        }
      },
      "source": [
        "logistic_regression = LogisticRegression()\n",
        "logistic_regression.fit(X_train, y_train)"
      ],
      "execution_count": 0,
      "outputs": [
        {
          "output_type": "execute_result",
          "data": {
            "text/plain": [
              "LogisticRegression(C=1.0, class_weight=None, dual=False, fit_intercept=True,\n",
              "                   intercept_scaling=1, l1_ratio=None, max_iter=100,\n",
              "                   multi_class='auto', n_jobs=None, penalty='l2',\n",
              "                   random_state=None, solver='lbfgs', tol=0.0001, verbose=0,\n",
              "                   warm_start=False)"
            ]
          },
          "metadata": {
            "tags": []
          },
          "execution_count": 37
        }
      ]
    },
    {
      "cell_type": "code",
      "metadata": {
        "id": "uhU-AD1PtRHF",
        "colab_type": "code",
        "outputId": "21af927b-bab5-43cb-c144-f93618ba1d31",
        "colab": {
          "base_uri": "https://localhost:8080/",
          "height": 123
        }
      },
      "source": [
        "#logistic_regression.score(X_train, y_train)\n",
        "#accuracy = logistic_regression.score(X_test, y_test)\n",
        "#y_pred = logistic_regression.predict_proba(X_test)\n",
        "accuracy_logreg = logistic_regression.score(X_test, y_test)\n",
        "y_pred_logreg = logistic_regression.predict_proba(X_test)\n",
        "predict_logreg = logistic_regression.predict(X_test)\n",
        "y_total_logreg = y_train.count()\n",
        "y_positive_logreg = y_train.sum()\n",
        "auc_roc_logreg = roc_auc_score(y_test, y_pred_logreg[:, 1])\n",
        "print('The training set contains {} examples (shots) of which {} are positives (goals).'.format(y_total_logreg, y_positive_logreg))\n",
        "print('The accuracy of classifying whether a shot is goal or not is {:.2f} %'.format(accuracy_logreg*100))\n",
        "print('Our classifier obtains an AUC-ROC of {:.4f}.'.format(auc_roc_logreg))\n",
        "\n",
        "auc_pr_baseline = y_positive / y_total\n",
        "print('The baseline performance for AUC-PR is {:.4f}. This is the AUC-PR that what we would get by random guessing.'.format(auc_pr_baseline))\n",
        "auc_pr_logreg = average_precision_score(y_test, y_pred_logreg[:, 1])\n",
        "print('Our classifier obtains an AUC-PR of {:.4f}.'.format(auc_pr_logreg))\n",
        "cohen_kappa_logreg = cohen_kappa_score(y_test,predict_logreg)\n",
        "print('Our classifier obtains a Cohen Kappa of {:.4f}.'.format(cohen_kappa_logreg))"
      ],
      "execution_count": 0,
      "outputs": [
        {
          "output_type": "stream",
          "text": [
            "The training set contains 148937 examples (shots) of which 15937 are positives (goals).\n",
            "The accuracy of classifying whether a shot is goal or not is 91.10 %\n",
            "Our classifier obtains an AUC-ROC of 0.8176.\n",
            "The baseline performance for AUC-PR is 0.1070. This is the AUC-PR that what we would get by random guessing.\n",
            "Our classifier obtains an AUC-PR of 0.4708.\n",
            "Our classifier obtains a Cohen Kappa of 0.3484.\n"
          ],
          "name": "stdout"
        }
      ]
    },
    {
      "cell_type": "code",
      "metadata": {
        "id": "e2heLjTWtUFH",
        "colab_type": "code",
        "outputId": "0f79642a-8a6a-4d53-a455-983eaadc9a93",
        "colab": {
          "base_uri": "https://localhost:8080/",
          "height": 247
        }
      },
      "source": [
        "print('Confusion Matrix:')\n",
        "print(confusion_matrix(y_test,predict_logreg))\n",
        "print('Report:')\n",
        "print(classification_report(y_test,predict_logreg))"
      ],
      "execution_count": 0,
      "outputs": [
        {
          "output_type": "stream",
          "text": [
            "Confusion Matrix:\n",
            "[[70820   874]\n",
            " [ 6265  2239]]\n",
            "Report:\n",
            "              precision    recall  f1-score   support\n",
            "\n",
            "           0       0.92      0.99      0.95     71694\n",
            "           1       0.72      0.26      0.39      8504\n",
            "\n",
            "    accuracy                           0.91     80198\n",
            "   macro avg       0.82      0.63      0.67     80198\n",
            "weighted avg       0.90      0.91      0.89     80198\n",
            "\n"
          ],
          "name": "stdout"
        }
      ]
    },
    {
      "cell_type": "code",
      "metadata": {
        "id": "gqnBm1sktXVq",
        "colab_type": "code",
        "outputId": "a3fcf965-d1b1-4f95-b2ff-c0903fed4490",
        "colab": {
          "base_uri": "https://localhost:8080/",
          "height": 532
        }
      },
      "source": [
        "coefficients = pd.Series(logistic_regression.coef_[0], X_train.columns)\n",
        "print(coefficients)"
      ],
      "execution_count": 0,
      "outputs": [
        {
          "output_type": "stream",
          "text": [
            "fast_break             1.716893\n",
            "loc_centre_box         0.263400\n",
            "loc_diff_angle_lr     -1.658406\n",
            "diff_angle_left       -0.759546\n",
            "diff_angle_right      -0.916103\n",
            "left_side_box         -1.086388\n",
            "left_side_6ybox        0.603182\n",
            "right_side_box        -1.002492\n",
            "right_side_6ybox       0.594105\n",
            "close_range            2.038976\n",
            "penalty                2.279751\n",
            "outside_box           -1.781324\n",
            "long_range            -2.189219\n",
            "more_35y              -2.464586\n",
            "more_40y              -1.985482\n",
            "not_recorded           7.116637\n",
            "right_foot            -0.085223\n",
            "left_foot             -0.146464\n",
            "header                -0.715808\n",
            "no_assist             -0.277028\n",
            "assist_pass           -0.247627\n",
            "assist_cross          -0.621207\n",
            "assist_header         -0.503796\n",
            "assist_through_ball    0.702163\n",
            "open_play             -0.116753\n",
            "set_piece              0.639309\n",
            "corner                 0.354522\n",
            "free_kick             -1.824572\n",
            "dtype: float64\n"
          ],
          "name": "stdout"
        }
      ]
    },
    {
      "cell_type": "markdown",
      "metadata": {
        "id": "83Mp3HX8tdY8",
        "colab_type": "text"
      },
      "source": [
        "### Neural Network MLP"
      ]
    },
    {
      "cell_type": "code",
      "metadata": {
        "id": "PrGZuoEHtZMv",
        "colab_type": "code",
        "outputId": "0c853416-ca74-412d-8b14-4be92573ac5d",
        "colab": {
          "base_uri": "https://localhost:8080/",
          "height": 158
        }
      },
      "source": [
        "mlp = MLPClassifier(random_state=0, hidden_layer_sizes=(28,28,28,28), max_iter=2000, activation='relu')\n",
        "mlp.fit(X_train, y_train)"
      ],
      "execution_count": 0,
      "outputs": [
        {
          "output_type": "execute_result",
          "data": {
            "text/plain": [
              "MLPClassifier(activation='relu', alpha=0.0001, batch_size='auto', beta_1=0.9,\n",
              "              beta_2=0.999, early_stopping=False, epsilon=1e-08,\n",
              "              hidden_layer_sizes=(28, 28, 28, 28), learning_rate='constant',\n",
              "              learning_rate_init=0.001, max_fun=15000, max_iter=2000,\n",
              "              momentum=0.9, n_iter_no_change=10, nesterovs_momentum=True,\n",
              "              power_t=0.5, random_state=0, shuffle=True, solver='adam',\n",
              "              tol=0.0001, validation_fraction=0.1, verbose=False,\n",
              "              warm_start=False)"
            ]
          },
          "metadata": {
            "tags": []
          },
          "execution_count": 41
        }
      ]
    },
    {
      "cell_type": "code",
      "metadata": {
        "id": "Cr0huY0stfuh",
        "colab_type": "code",
        "outputId": "9b8bf6d1-ac49-486b-a7c6-e41ba57f5768",
        "colab": {
          "base_uri": "https://localhost:8080/",
          "height": 141
        }
      },
      "source": [
        "mlp.score(X_train, y_train)\n",
        "mlp.score(X_test, y_test)\n",
        "accuracy = mlp.score(X_test, y_test)\n",
        "print('The accuracy of classifying whether a shot is goal or not is {:.2f} %.'.format(accuracy*100))\n",
        "y_pred = mlp.predict_proba(X_test)\n",
        "predict = mlp.predict(X_test)\n",
        "y_total = y_train.count()\n",
        "y_positive = y_train.sum()\n",
        "print('The training set contains {} examples of which {} are positives.'.format(y_total, y_positive))\n",
        "auc_roc = roc_auc_score(y_test, y_pred[:,1])\n",
        "print('Our MLP classifier obtains an AUC-ROC of {:.4f}.'.format(auc_roc))\n",
        "auc_pr_baseline = y_positive / y_total\n",
        "print('The baseline performance for AUC-PR is {:.4f}. This is what we would get by random guessing'.format(auc_pr_baseline))\n",
        "auc_pr = average_precision_score(y_test, y_pred[:,1])\n",
        "print('Our MLP classifier obtains an AUC-PR of {:.4f}.'.format(auc_pr))\n",
        "cohen_kappa = cohen_kappa_score(y_test,predict)\n",
        "print('Our classifier obtains a Cohen Kappa of {:.4f}.'.format(cohen_kappa))\n",
        "MSE = sklearn.metrics.mean_squared_error(y_test, y_pred[:,1])\n",
        "print('Our MLP classifier obtains a Mean Squared Error (MSE) of {:.4f}.'.format(MSE))"
      ],
      "execution_count": 0,
      "outputs": [
        {
          "output_type": "stream",
          "text": [
            "The accuracy of classifying whether a shot is goal or not is 91.10 %.\n",
            "The training set contains 148937 examples of which 15937 are positives.\n",
            "Our MLP classifier obtains an AUC-ROC of 0.8189.\n",
            "The baseline performance for AUC-PR is 0.1070. This is what we would get by random guessing\n",
            "Our MLP classifier obtains an AUC-PR of 0.4741.\n",
            "Our classifier obtains a Cohen Kappa of 0.3533.\n",
            "Our MLP classifier obtains a Mean Squared Error (MSE) of 0.0726.\n"
          ],
          "name": "stdout"
        }
      ]
    },
    {
      "cell_type": "code",
      "metadata": {
        "id": "OqCJ_VNcthwr",
        "colab_type": "code",
        "outputId": "b69268e9-877b-4b6f-d062-35029ac931ac",
        "colab": {
          "base_uri": "https://localhost:8080/",
          "height": 247
        }
      },
      "source": [
        "print('Confusion Matrix:')\n",
        "print(confusion_matrix(y_test,predict))\n",
        "print('Report:')\n",
        "print(classification_report(y_test,predict))"
      ],
      "execution_count": 0,
      "outputs": [
        {
          "output_type": "stream",
          "text": [
            "Confusion Matrix:\n",
            "[[70771   923]\n",
            " [ 6214  2290]]\n",
            "Report:\n",
            "              precision    recall  f1-score   support\n",
            "\n",
            "           0       0.92      0.99      0.95     71694\n",
            "           1       0.71      0.27      0.39      8504\n",
            "\n",
            "    accuracy                           0.91     80198\n",
            "   macro avg       0.82      0.63      0.67     80198\n",
            "weighted avg       0.90      0.91      0.89     80198\n",
            "\n"
          ],
          "name": "stdout"
        }
      ]
    },
    {
      "cell_type": "code",
      "metadata": {
        "id": "YS7jK3RLtjmz",
        "colab_type": "code",
        "colab": {}
      },
      "source": [
        "predictions = X_test.copy()\n",
        "predictions['true_goals'] = y_test\n",
        "predictions['expected_goals'] = y_pred[:,1]\n",
        "predictions['difference'] = predictions['expected_goals'] - predictions['true_goals']\n",
        "predictions = predictions.iloc[:,28:31]"
      ],
      "execution_count": 0,
      "outputs": []
    },
    {
      "cell_type": "code",
      "metadata": {
        "id": "Pf8nsBF9tmN1",
        "colab_type": "code",
        "outputId": "387f0fa5-03a0-483e-89ca-afd78b22d486",
        "colab": {
          "base_uri": "https://localhost:8080/",
          "height": 197
        }
      },
      "source": [
        "predictions.head()"
      ],
      "execution_count": 0,
      "outputs": [
        {
          "output_type": "execute_result",
          "data": {
            "text/html": [
              "<div>\n",
              "<style scoped>\n",
              "    .dataframe tbody tr th:only-of-type {\n",
              "        vertical-align: middle;\n",
              "    }\n",
              "\n",
              "    .dataframe tbody tr th {\n",
              "        vertical-align: top;\n",
              "    }\n",
              "\n",
              "    .dataframe thead th {\n",
              "        text-align: right;\n",
              "    }\n",
              "</style>\n",
              "<table border=\"1\" class=\"dataframe\">\n",
              "  <thead>\n",
              "    <tr style=\"text-align: right;\">\n",
              "      <th></th>\n",
              "      <th>true_goals</th>\n",
              "      <th>expected_goals</th>\n",
              "      <th>difference</th>\n",
              "    </tr>\n",
              "  </thead>\n",
              "  <tbody>\n",
              "    <tr>\n",
              "      <th>851561</th>\n",
              "      <td>0</td>\n",
              "      <td>0.188227</td>\n",
              "      <td>0.188227</td>\n",
              "    </tr>\n",
              "    <tr>\n",
              "      <th>744702</th>\n",
              "      <td>1</td>\n",
              "      <td>0.159854</td>\n",
              "      <td>-0.840146</td>\n",
              "    </tr>\n",
              "    <tr>\n",
              "      <th>661032</th>\n",
              "      <td>0</td>\n",
              "      <td>0.026345</td>\n",
              "      <td>0.026345</td>\n",
              "    </tr>\n",
              "    <tr>\n",
              "      <th>195074</th>\n",
              "      <td>0</td>\n",
              "      <td>0.188227</td>\n",
              "      <td>0.188227</td>\n",
              "    </tr>\n",
              "    <tr>\n",
              "      <th>742812</th>\n",
              "      <td>0</td>\n",
              "      <td>0.029182</td>\n",
              "      <td>0.029182</td>\n",
              "    </tr>\n",
              "  </tbody>\n",
              "</table>\n",
              "</div>"
            ],
            "text/plain": [
              "        true_goals  expected_goals  difference\n",
              "851561           0        0.188227    0.188227\n",
              "744702           1        0.159854   -0.840146\n",
              "661032           0        0.026345    0.026345\n",
              "195074           0        0.188227    0.188227\n",
              "742812           0        0.029182    0.029182"
            ]
          },
          "metadata": {
            "tags": []
          },
          "execution_count": 45
        }
      ]
    },
    {
      "cell_type": "markdown",
      "metadata": {
        "id": "kjw5KIXTtv6_",
        "colab_type": "text"
      },
      "source": [
        "##Analyze Player"
      ]
    },
    {
      "cell_type": "code",
      "metadata": {
        "id": "9pHVc021t2kH",
        "colab_type": "code",
        "colab": {}
      },
      "source": [
        "ypred2 = mlp.predict_proba(X_train)\n",
        "predictions_train = X_train.copy()\n",
        "predictions_train['true_goals'] = y_train\n",
        "predictions_train['expected_goals'] = ypred2[:,1]\n",
        "predictions_train['difference'] = predictions_train['expected_goals'] - predictions_train['true_goals']\n",
        "predictions_train = predictions_train.iloc[:,28:31]\n",
        "all_predictions = pd.concat([predictions, predictions_train], axis=0)\n",
        "events2 = pd.concat([events, all_predictions], axis=1)\n",
        "shots2 = events2[events2.event_type==1]"
      ],
      "execution_count": 0,
      "outputs": []
    },
    {
      "cell_type": "markdown",
      "metadata": {
        "id": "Pbv0hWiJuGDI",
        "colab_type": "text"
      },
      "source": [
        "### Best Finisher"
      ]
    },
    {
      "cell_type": "code",
      "metadata": {
        "id": "kPTc422Bt9Dd",
        "colab_type": "code",
        "outputId": "53d5bfe2-c578-4058-d032-a815d6d68345",
        "colab": {
          "base_uri": "https://localhost:8080/",
          "height": 107
        }
      },
      "source": [
        "xG_players = shots2[['player', 'event_type', 'true_goals', 'expected_goals', 'difference']].groupby('player').sum()\n",
        "xG_players.columns = ['n_shots', 'goals_scored', 'expected_goals', 'difference']\n",
        "xG_players[['goals_scored', 'expected_goals']].corr()"
      ],
      "execution_count": 0,
      "outputs": [
        {
          "output_type": "execute_result",
          "data": {
            "text/html": [
              "<div>\n",
              "<style scoped>\n",
              "    .dataframe tbody tr th:only-of-type {\n",
              "        vertical-align: middle;\n",
              "    }\n",
              "\n",
              "    .dataframe tbody tr th {\n",
              "        vertical-align: top;\n",
              "    }\n",
              "\n",
              "    .dataframe thead th {\n",
              "        text-align: right;\n",
              "    }\n",
              "</style>\n",
              "<table border=\"1\" class=\"dataframe\">\n",
              "  <thead>\n",
              "    <tr style=\"text-align: right;\">\n",
              "      <th></th>\n",
              "      <th>goals_scored</th>\n",
              "      <th>expected_goals</th>\n",
              "    </tr>\n",
              "  </thead>\n",
              "  <tbody>\n",
              "    <tr>\n",
              "      <th>goals_scored</th>\n",
              "      <td>1.00000</td>\n",
              "      <td>0.97665</td>\n",
              "    </tr>\n",
              "    <tr>\n",
              "      <th>expected_goals</th>\n",
              "      <td>0.97665</td>\n",
              "      <td>1.00000</td>\n",
              "    </tr>\n",
              "  </tbody>\n",
              "</table>\n",
              "</div>"
            ],
            "text/plain": [
              "                goals_scored  expected_goals\n",
              "goals_scored         1.00000         0.97665\n",
              "expected_goals       0.97665         1.00000"
            ]
          },
          "metadata": {
            "tags": []
          },
          "execution_count": 47
        }
      ]
    },
    {
      "cell_type": "code",
      "metadata": {
        "id": "WUAXSllwuVgV",
        "colab_type": "code",
        "outputId": "3763cc02-94f6-45df-868c-18f8372b891c",
        "colab": {
          "base_uri": "https://localhost:8080/",
          "height": 436
        }
      },
      "source": [
        "xG_players.sort_values(['difference', 'goals_scored'])"
      ],
      "execution_count": 0,
      "outputs": [
        {
          "output_type": "execute_result",
          "data": {
            "text/html": [
              "<div>\n",
              "<style scoped>\n",
              "    .dataframe tbody tr th:only-of-type {\n",
              "        vertical-align: middle;\n",
              "    }\n",
              "\n",
              "    .dataframe tbody tr th {\n",
              "        vertical-align: top;\n",
              "    }\n",
              "\n",
              "    .dataframe thead th {\n",
              "        text-align: right;\n",
              "    }\n",
              "</style>\n",
              "<table border=\"1\" class=\"dataframe\">\n",
              "  <thead>\n",
              "    <tr style=\"text-align: right;\">\n",
              "      <th></th>\n",
              "      <th>n_shots</th>\n",
              "      <th>goals_scored</th>\n",
              "      <th>expected_goals</th>\n",
              "      <th>difference</th>\n",
              "    </tr>\n",
              "    <tr>\n",
              "      <th>player</th>\n",
              "      <th></th>\n",
              "      <th></th>\n",
              "      <th></th>\n",
              "      <th></th>\n",
              "    </tr>\n",
              "  </thead>\n",
              "  <tbody>\n",
              "    <tr>\n",
              "      <th>lionel messi</th>\n",
              "      <td>914</td>\n",
              "      <td>205.0</td>\n",
              "      <td>147.785301</td>\n",
              "      <td>-57.214699</td>\n",
              "    </tr>\n",
              "    <tr>\n",
              "      <th>luis suarez</th>\n",
              "      <td>433</td>\n",
              "      <td>96.0</td>\n",
              "      <td>66.885136</td>\n",
              "      <td>-29.114864</td>\n",
              "    </tr>\n",
              "    <tr>\n",
              "      <th>zlatan ibrahimovic</th>\n",
              "      <td>774</td>\n",
              "      <td>153.0</td>\n",
              "      <td>124.539731</td>\n",
              "      <td>-28.460269</td>\n",
              "    </tr>\n",
              "    <tr>\n",
              "      <th>gonzalo higuain</th>\n",
              "      <td>552</td>\n",
              "      <td>118.0</td>\n",
              "      <td>89.582126</td>\n",
              "      <td>-28.417874</td>\n",
              "    </tr>\n",
              "    <tr>\n",
              "      <th>cristiano ronaldo</th>\n",
              "      <td>1190</td>\n",
              "      <td>198.0</td>\n",
              "      <td>172.517022</td>\n",
              "      <td>-25.482978</td>\n",
              "    </tr>\n",
              "    <tr>\n",
              "      <th>...</th>\n",
              "      <td>...</td>\n",
              "      <td>...</td>\n",
              "      <td>...</td>\n",
              "      <td>...</td>\n",
              "    </tr>\n",
              "    <tr>\n",
              "      <th>adrian mutu</th>\n",
              "      <td>197</td>\n",
              "      <td>17.0</td>\n",
              "      <td>26.513314</td>\n",
              "      <td>9.513314</td>\n",
              "    </tr>\n",
              "    <tr>\n",
              "      <th>giampaolo pazzini</th>\n",
              "      <td>233</td>\n",
              "      <td>31.0</td>\n",
              "      <td>40.895021</td>\n",
              "      <td>9.895021</td>\n",
              "    </tr>\n",
              "    <tr>\n",
              "      <th>mario balotelli</th>\n",
              "      <td>362</td>\n",
              "      <td>36.0</td>\n",
              "      <td>46.316562</td>\n",
              "      <td>10.316562</td>\n",
              "    </tr>\n",
              "    <tr>\n",
              "      <th>amauri</th>\n",
              "      <td>225</td>\n",
              "      <td>20.0</td>\n",
              "      <td>33.190712</td>\n",
              "      <td>13.190712</td>\n",
              "    </tr>\n",
              "    <tr>\n",
              "      <th>jesus navas</th>\n",
              "      <td>274</td>\n",
              "      <td>9.0</td>\n",
              "      <td>25.196174</td>\n",
              "      <td>16.196174</td>\n",
              "    </tr>\n",
              "  </tbody>\n",
              "</table>\n",
              "<p>4787 rows × 4 columns</p>\n",
              "</div>"
            ],
            "text/plain": [
              "                    n_shots  goals_scored  expected_goals  difference\n",
              "player                                                               \n",
              "lionel messi            914         205.0      147.785301  -57.214699\n",
              "luis suarez             433          96.0       66.885136  -29.114864\n",
              "zlatan ibrahimovic      774         153.0      124.539731  -28.460269\n",
              "gonzalo higuain         552         118.0       89.582126  -28.417874\n",
              "cristiano ronaldo      1190         198.0      172.517022  -25.482978\n",
              "...                     ...           ...             ...         ...\n",
              "adrian mutu             197          17.0       26.513314    9.513314\n",
              "giampaolo pazzini       233          31.0       40.895021    9.895021\n",
              "mario balotelli         362          36.0       46.316562   10.316562\n",
              "amauri                  225          20.0       33.190712   13.190712\n",
              "jesus navas             274           9.0       25.196174   16.196174\n",
              "\n",
              "[4787 rows x 4 columns]"
            ]
          },
          "metadata": {
            "tags": []
          },
          "execution_count": 48
        }
      ]
    },
    {
      "cell_type": "markdown",
      "metadata": {
        "id": "-vjd3o7uucU3",
        "colab_type": "text"
      },
      "source": [
        "### Most Expected Goals"
      ]
    },
    {
      "cell_type": "code",
      "metadata": {
        "id": "Q6lKBh2VuXsP",
        "colab_type": "code",
        "outputId": "841176c8-d7ad-4c47-f321-afa9c3faefc8",
        "colab": {
          "base_uri": "https://localhost:8080/",
          "height": 436
        }
      },
      "source": [
        "xG_players.sort_values(['expected_goals'], ascending=False)"
      ],
      "execution_count": 0,
      "outputs": [
        {
          "output_type": "execute_result",
          "data": {
            "text/html": [
              "<div>\n",
              "<style scoped>\n",
              "    .dataframe tbody tr th:only-of-type {\n",
              "        vertical-align: middle;\n",
              "    }\n",
              "\n",
              "    .dataframe tbody tr th {\n",
              "        vertical-align: top;\n",
              "    }\n",
              "\n",
              "    .dataframe thead th {\n",
              "        text-align: right;\n",
              "    }\n",
              "</style>\n",
              "<table border=\"1\" class=\"dataframe\">\n",
              "  <thead>\n",
              "    <tr style=\"text-align: right;\">\n",
              "      <th></th>\n",
              "      <th>n_shots</th>\n",
              "      <th>goals_scored</th>\n",
              "      <th>expected_goals</th>\n",
              "      <th>difference</th>\n",
              "    </tr>\n",
              "    <tr>\n",
              "      <th>player</th>\n",
              "      <th></th>\n",
              "      <th></th>\n",
              "      <th></th>\n",
              "      <th></th>\n",
              "    </tr>\n",
              "  </thead>\n",
              "  <tbody>\n",
              "    <tr>\n",
              "      <th>cristiano ronaldo</th>\n",
              "      <td>1190</td>\n",
              "      <td>198.0</td>\n",
              "      <td>172.517022</td>\n",
              "      <td>-25.482978</td>\n",
              "    </tr>\n",
              "    <tr>\n",
              "      <th>lionel messi</th>\n",
              "      <td>914</td>\n",
              "      <td>205.0</td>\n",
              "      <td>147.785301</td>\n",
              "      <td>-57.214699</td>\n",
              "    </tr>\n",
              "    <tr>\n",
              "      <th>zlatan ibrahimovic</th>\n",
              "      <td>774</td>\n",
              "      <td>153.0</td>\n",
              "      <td>124.539731</td>\n",
              "      <td>-28.460269</td>\n",
              "    </tr>\n",
              "    <tr>\n",
              "      <th>edinson cavani</th>\n",
              "      <td>623</td>\n",
              "      <td>121.0</td>\n",
              "      <td>118.256201</td>\n",
              "      <td>-2.743799</td>\n",
              "    </tr>\n",
              "    <tr>\n",
              "      <th>robert lewandowski</th>\n",
              "      <td>633</td>\n",
              "      <td>124.0</td>\n",
              "      <td>99.958186</td>\n",
              "      <td>-24.041814</td>\n",
              "    </tr>\n",
              "    <tr>\n",
              "      <th>...</th>\n",
              "      <td>...</td>\n",
              "      <td>...</td>\n",
              "      <td>...</td>\n",
              "      <td>...</td>\n",
              "    </tr>\n",
              "    <tr>\n",
              "      <th>moi</th>\n",
              "      <td>1</td>\n",
              "      <td>0.0</td>\n",
              "      <td>0.014360</td>\n",
              "      <td>0.014360</td>\n",
              "    </tr>\n",
              "    <tr>\n",
              "      <th>kader</th>\n",
              "      <td>1</td>\n",
              "      <td>0.0</td>\n",
              "      <td>0.013647</td>\n",
              "      <td>0.013647</td>\n",
              "    </tr>\n",
              "    <tr>\n",
              "      <th>hassane kamara</th>\n",
              "      <td>1</td>\n",
              "      <td>0.0</td>\n",
              "      <td>0.009049</td>\n",
              "      <td>0.009049</td>\n",
              "    </tr>\n",
              "    <tr>\n",
              "      <th>mattia aramu</th>\n",
              "      <td>1</td>\n",
              "      <td>0.0</td>\n",
              "      <td>0.000032</td>\n",
              "      <td>0.000032</td>\n",
              "    </tr>\n",
              "    <tr>\n",
              "      <th>pascal berenguer</th>\n",
              "      <td>1</td>\n",
              "      <td>0.0</td>\n",
              "      <td>0.000011</td>\n",
              "      <td>0.000011</td>\n",
              "    </tr>\n",
              "  </tbody>\n",
              "</table>\n",
              "<p>4787 rows × 4 columns</p>\n",
              "</div>"
            ],
            "text/plain": [
              "                    n_shots  goals_scored  expected_goals  difference\n",
              "player                                                               \n",
              "cristiano ronaldo      1190         198.0      172.517022  -25.482978\n",
              "lionel messi            914         205.0      147.785301  -57.214699\n",
              "zlatan ibrahimovic      774         153.0      124.539731  -28.460269\n",
              "edinson cavani          623         121.0      118.256201   -2.743799\n",
              "robert lewandowski      633         124.0       99.958186  -24.041814\n",
              "...                     ...           ...             ...         ...\n",
              "moi                       1           0.0        0.014360    0.014360\n",
              "kader                     1           0.0        0.013647    0.013647\n",
              "hassane kamara            1           0.0        0.009049    0.009049\n",
              "mattia aramu              1           0.0        0.000032    0.000032\n",
              "pascal berenguer          1           0.0        0.000011    0.000011\n",
              "\n",
              "[4787 rows x 4 columns]"
            ]
          },
          "metadata": {
            "tags": []
          },
          "execution_count": 49
        }
      ]
    },
    {
      "cell_type": "markdown",
      "metadata": {
        "id": "j9ZelY_Bul2y",
        "colab_type": "text"
      },
      "source": [
        "### Players with worst shots"
      ]
    },
    {
      "cell_type": "code",
      "metadata": {
        "id": "kYKoxALzugU7",
        "colab_type": "code",
        "outputId": "59998712-3b54-497f-9b18-03f96267a64f",
        "colab": {
          "base_uri": "https://localhost:8080/",
          "height": 436
        }
      },
      "source": [
        "xG_players['xG_per_shot_ratio'] = xG_players['expected_goals'] / xG_players['n_shots']\n",
        "xG_players[xG_players.n_shots>100].sort_values(['xG_per_shot_ratio', 'goals_scored'])"
      ],
      "execution_count": 0,
      "outputs": [
        {
          "output_type": "execute_result",
          "data": {
            "text/html": [
              "<div>\n",
              "<style scoped>\n",
              "    .dataframe tbody tr th:only-of-type {\n",
              "        vertical-align: middle;\n",
              "    }\n",
              "\n",
              "    .dataframe tbody tr th {\n",
              "        vertical-align: top;\n",
              "    }\n",
              "\n",
              "    .dataframe thead th {\n",
              "        text-align: right;\n",
              "    }\n",
              "</style>\n",
              "<table border=\"1\" class=\"dataframe\">\n",
              "  <thead>\n",
              "    <tr style=\"text-align: right;\">\n",
              "      <th></th>\n",
              "      <th>n_shots</th>\n",
              "      <th>goals_scored</th>\n",
              "      <th>expected_goals</th>\n",
              "      <th>difference</th>\n",
              "      <th>xG_per_shot_ratio</th>\n",
              "    </tr>\n",
              "    <tr>\n",
              "      <th>player</th>\n",
              "      <th></th>\n",
              "      <th></th>\n",
              "      <th></th>\n",
              "      <th></th>\n",
              "      <th></th>\n",
              "    </tr>\n",
              "  </thead>\n",
              "  <tbody>\n",
              "    <tr>\n",
              "      <th>tom huddlestone</th>\n",
              "      <td>108</td>\n",
              "      <td>2.0</td>\n",
              "      <td>3.801665</td>\n",
              "      <td>1.801665</td>\n",
              "      <td>0.035201</td>\n",
              "    </tr>\n",
              "    <tr>\n",
              "      <th>gokhan inler</th>\n",
              "      <td>185</td>\n",
              "      <td>9.0</td>\n",
              "      <td>7.333342</td>\n",
              "      <td>-1.666658</td>\n",
              "      <td>0.039640</td>\n",
              "    </tr>\n",
              "    <tr>\n",
              "      <th>florent balmont</th>\n",
              "      <td>168</td>\n",
              "      <td>5.0</td>\n",
              "      <td>7.122417</td>\n",
              "      <td>2.122417</td>\n",
              "      <td>0.042395</td>\n",
              "    </tr>\n",
              "    <tr>\n",
              "      <th>ivan radovanovic</th>\n",
              "      <td>161</td>\n",
              "      <td>2.0</td>\n",
              "      <td>7.569230</td>\n",
              "      <td>5.569230</td>\n",
              "      <td>0.047014</td>\n",
              "    </tr>\n",
              "    <tr>\n",
              "      <th>saphir taider</th>\n",
              "      <td>102</td>\n",
              "      <td>4.0</td>\n",
              "      <td>4.932113</td>\n",
              "      <td>0.932113</td>\n",
              "      <td>0.048354</td>\n",
              "    </tr>\n",
              "    <tr>\n",
              "      <th>...</th>\n",
              "      <td>...</td>\n",
              "      <td>...</td>\n",
              "      <td>...</td>\n",
              "      <td>...</td>\n",
              "      <td>...</td>\n",
              "    </tr>\n",
              "    <tr>\n",
              "      <th>miku</th>\n",
              "      <td>109</td>\n",
              "      <td>23.0</td>\n",
              "      <td>21.350285</td>\n",
              "      <td>-1.649715</td>\n",
              "      <td>0.195874</td>\n",
              "    </tr>\n",
              "    <tr>\n",
              "      <th>ikechukwu uche</th>\n",
              "      <td>113</td>\n",
              "      <td>21.0</td>\n",
              "      <td>22.428916</td>\n",
              "      <td>1.428916</td>\n",
              "      <td>0.198486</td>\n",
              "    </tr>\n",
              "    <tr>\n",
              "      <th>carlos bacca</th>\n",
              "      <td>230</td>\n",
              "      <td>57.0</td>\n",
              "      <td>46.001342</td>\n",
              "      <td>-10.998658</td>\n",
              "      <td>0.200006</td>\n",
              "    </tr>\n",
              "    <tr>\n",
              "      <th>kevin gameiro</th>\n",
              "      <td>303</td>\n",
              "      <td>63.0</td>\n",
              "      <td>61.486777</td>\n",
              "      <td>-1.513223</td>\n",
              "      <td>0.202927</td>\n",
              "    </tr>\n",
              "    <tr>\n",
              "      <th>diego milito</th>\n",
              "      <td>138</td>\n",
              "      <td>33.0</td>\n",
              "      <td>30.069233</td>\n",
              "      <td>-2.930767</td>\n",
              "      <td>0.217893</td>\n",
              "    </tr>\n",
              "  </tbody>\n",
              "</table>\n",
              "<p>674 rows × 5 columns</p>\n",
              "</div>"
            ],
            "text/plain": [
              "                  n_shots  goals_scored  expected_goals  difference  xG_per_shot_ratio\n",
              "player                                                                                \n",
              "tom huddlestone       108           2.0        3.801665    1.801665           0.035201\n",
              "gokhan inler          185           9.0        7.333342   -1.666658           0.039640\n",
              "florent balmont       168           5.0        7.122417    2.122417           0.042395\n",
              "ivan radovanovic      161           2.0        7.569230    5.569230           0.047014\n",
              "saphir taider         102           4.0        4.932113    0.932113           0.048354\n",
              "...                   ...           ...             ...         ...                ...\n",
              "miku                  109          23.0       21.350285   -1.649715           0.195874\n",
              "ikechukwu uche        113          21.0       22.428916    1.428916           0.198486\n",
              "carlos bacca          230          57.0       46.001342  -10.998658           0.200006\n",
              "kevin gameiro         303          63.0       61.486777   -1.513223           0.202927\n",
              "diego milito          138          33.0       30.069233   -2.930767           0.217893\n",
              "\n",
              "[674 rows x 5 columns]"
            ]
          },
          "metadata": {
            "tags": []
          },
          "execution_count": 50
        }
      ]
    },
    {
      "cell_type": "markdown",
      "metadata": {
        "id": "c8lva-IiuxUU",
        "colab_type": "text"
      },
      "source": [
        "### Best Headers"
      ]
    },
    {
      "cell_type": "code",
      "metadata": {
        "id": "IoqiTYC9uo1_",
        "colab_type": "code",
        "outputId": "c032f466-7bb2-4573-8bcf-d83c1c3dacee",
        "colab": {
          "base_uri": "https://localhost:8080/",
          "height": 436
        }
      },
      "source": [
        "headers = events2[(events2.event_type==1) & (events2.bodypart==3)]\n",
        "headers_players = headers[['player', 'event_type', 'true_goals', 'expected_goals', 'difference']].groupby('player').sum()\n",
        "headers_players.columns = ['n_headers', 'goals_scored', 'expected_goals', 'difference']\n",
        "headers_players.sort_values(['difference'])"
      ],
      "execution_count": 0,
      "outputs": [
        {
          "output_type": "execute_result",
          "data": {
            "text/html": [
              "<div>\n",
              "<style scoped>\n",
              "    .dataframe tbody tr th:only-of-type {\n",
              "        vertical-align: middle;\n",
              "    }\n",
              "\n",
              "    .dataframe tbody tr th {\n",
              "        vertical-align: top;\n",
              "    }\n",
              "\n",
              "    .dataframe thead th {\n",
              "        text-align: right;\n",
              "    }\n",
              "</style>\n",
              "<table border=\"1\" class=\"dataframe\">\n",
              "  <thead>\n",
              "    <tr style=\"text-align: right;\">\n",
              "      <th></th>\n",
              "      <th>n_headers</th>\n",
              "      <th>goals_scored</th>\n",
              "      <th>expected_goals</th>\n",
              "      <th>difference</th>\n",
              "    </tr>\n",
              "    <tr>\n",
              "      <th>player</th>\n",
              "      <th></th>\n",
              "      <th></th>\n",
              "      <th></th>\n",
              "      <th></th>\n",
              "    </tr>\n",
              "  </thead>\n",
              "  <tbody>\n",
              "    <tr>\n",
              "      <th>cristiano ronaldo</th>\n",
              "      <td>159</td>\n",
              "      <td>36.0</td>\n",
              "      <td>19.978661</td>\n",
              "      <td>-16.021339</td>\n",
              "    </tr>\n",
              "    <tr>\n",
              "      <th>mario mandzukic</th>\n",
              "      <td>124</td>\n",
              "      <td>28.0</td>\n",
              "      <td>14.458362</td>\n",
              "      <td>-13.541638</td>\n",
              "    </tr>\n",
              "    <tr>\n",
              "      <th>fernando llorente</th>\n",
              "      <td>141</td>\n",
              "      <td>25.0</td>\n",
              "      <td>15.727760</td>\n",
              "      <td>-9.272240</td>\n",
              "    </tr>\n",
              "    <tr>\n",
              "      <th>sloan privat</th>\n",
              "      <td>86</td>\n",
              "      <td>17.0</td>\n",
              "      <td>9.956783</td>\n",
              "      <td>-7.043217</td>\n",
              "    </tr>\n",
              "    <tr>\n",
              "      <th>pierreemerick aubameyang</th>\n",
              "      <td>59</td>\n",
              "      <td>14.0</td>\n",
              "      <td>7.339879</td>\n",
              "      <td>-6.660121</td>\n",
              "    </tr>\n",
              "    <tr>\n",
              "      <th>...</th>\n",
              "      <td>...</td>\n",
              "      <td>...</td>\n",
              "      <td>...</td>\n",
              "      <td>...</td>\n",
              "    </tr>\n",
              "    <tr>\n",
              "      <th>bostjan cesar</th>\n",
              "      <td>46</td>\n",
              "      <td>2.0</td>\n",
              "      <td>6.470119</td>\n",
              "      <td>4.470119</td>\n",
              "    </tr>\n",
              "    <tr>\n",
              "      <th>raphael varane</th>\n",
              "      <td>50</td>\n",
              "      <td>1.0</td>\n",
              "      <td>6.034118</td>\n",
              "      <td>5.034118</td>\n",
              "    </tr>\n",
              "    <tr>\n",
              "      <th>naldo</th>\n",
              "      <td>112</td>\n",
              "      <td>7.0</td>\n",
              "      <td>12.378500</td>\n",
              "      <td>5.378500</td>\n",
              "    </tr>\n",
              "    <tr>\n",
              "      <th>sokratis</th>\n",
              "      <td>62</td>\n",
              "      <td>3.0</td>\n",
              "      <td>8.471332</td>\n",
              "      <td>5.471332</td>\n",
              "    </tr>\n",
              "    <tr>\n",
              "      <th>mats hummels</th>\n",
              "      <td>80</td>\n",
              "      <td>5.0</td>\n",
              "      <td>10.862208</td>\n",
              "      <td>5.862208</td>\n",
              "    </tr>\n",
              "  </tbody>\n",
              "</table>\n",
              "<p>3354 rows × 4 columns</p>\n",
              "</div>"
            ],
            "text/plain": [
              "                          n_headers  goals_scored  expected_goals  difference\n",
              "player                                                                       \n",
              "cristiano ronaldo               159          36.0       19.978661  -16.021339\n",
              "mario mandzukic                 124          28.0       14.458362  -13.541638\n",
              "fernando llorente               141          25.0       15.727760   -9.272240\n",
              "sloan privat                     86          17.0        9.956783   -7.043217\n",
              "pierreemerick aubameyang         59          14.0        7.339879   -6.660121\n",
              "...                             ...           ...             ...         ...\n",
              "bostjan cesar                    46           2.0        6.470119    4.470119\n",
              "raphael varane                   50           1.0        6.034118    5.034118\n",
              "naldo                           112           7.0       12.378500    5.378500\n",
              "sokratis                         62           3.0        8.471332    5.471332\n",
              "mats hummels                     80           5.0       10.862208    5.862208\n",
              "\n",
              "[3354 rows x 4 columns]"
            ]
          },
          "metadata": {
            "tags": []
          },
          "execution_count": 51
        }
      ]
    },
    {
      "cell_type": "markdown",
      "metadata": {
        "id": "DnJm-WxPu5G_",
        "colab_type": "text"
      },
      "source": [
        "### Best Left footer"
      ]
    },
    {
      "cell_type": "code",
      "metadata": {
        "id": "HOARmXE7uzjP",
        "colab_type": "code",
        "outputId": "d81f3b8a-5056-4764-8f26-caea2fe4348e",
        "colab": {
          "base_uri": "https://localhost:8080/",
          "height": 436
        }
      },
      "source": [
        "left_foot = events2[(events2.event_type==1) & (events2.bodypart==2)]\n",
        "left_foot_players = left_foot[['player', 'event_type', 'true_goals', 'expected_goals', 'difference']].groupby('player').sum()\n",
        "left_foot_players.columns = ['n_left_foot_shots', 'goals_scored', 'expected_goals', 'difference']\n",
        "left_foot_players.sort_values(['difference'])\n"
      ],
      "execution_count": 0,
      "outputs": [
        {
          "output_type": "execute_result",
          "data": {
            "text/html": [
              "<div>\n",
              "<style scoped>\n",
              "    .dataframe tbody tr th:only-of-type {\n",
              "        vertical-align: middle;\n",
              "    }\n",
              "\n",
              "    .dataframe tbody tr th {\n",
              "        vertical-align: top;\n",
              "    }\n",
              "\n",
              "    .dataframe thead th {\n",
              "        text-align: right;\n",
              "    }\n",
              "</style>\n",
              "<table border=\"1\" class=\"dataframe\">\n",
              "  <thead>\n",
              "    <tr style=\"text-align: right;\">\n",
              "      <th></th>\n",
              "      <th>n_left_foot_shots</th>\n",
              "      <th>goals_scored</th>\n",
              "      <th>expected_goals</th>\n",
              "      <th>difference</th>\n",
              "    </tr>\n",
              "    <tr>\n",
              "      <th>player</th>\n",
              "      <th></th>\n",
              "      <th></th>\n",
              "      <th></th>\n",
              "      <th></th>\n",
              "    </tr>\n",
              "  </thead>\n",
              "  <tbody>\n",
              "    <tr>\n",
              "      <th>lionel messi</th>\n",
              "      <td>752</td>\n",
              "      <td>167.0</td>\n",
              "      <td>122.275613</td>\n",
              "      <td>-44.724387</td>\n",
              "    </tr>\n",
              "    <tr>\n",
              "      <th>antoine griezmann</th>\n",
              "      <td>345</td>\n",
              "      <td>58.0</td>\n",
              "      <td>42.553398</td>\n",
              "      <td>-15.446602</td>\n",
              "    </tr>\n",
              "    <tr>\n",
              "      <th>iago falque</th>\n",
              "      <td>132</td>\n",
              "      <td>23.0</td>\n",
              "      <td>13.516637</td>\n",
              "      <td>-9.483363</td>\n",
              "    </tr>\n",
              "    <tr>\n",
              "      <th>arjen robben</th>\n",
              "      <td>296</td>\n",
              "      <td>42.0</td>\n",
              "      <td>32.521805</td>\n",
              "      <td>-9.478195</td>\n",
              "    </tr>\n",
              "    <tr>\n",
              "      <th>franck ribery</th>\n",
              "      <td>57</td>\n",
              "      <td>16.0</td>\n",
              "      <td>6.669528</td>\n",
              "      <td>-9.330472</td>\n",
              "    </tr>\n",
              "    <tr>\n",
              "      <th>...</th>\n",
              "      <td>...</td>\n",
              "      <td>...</td>\n",
              "      <td>...</td>\n",
              "      <td>...</td>\n",
              "    </tr>\n",
              "    <tr>\n",
              "      <th>ruben castro</th>\n",
              "      <td>67</td>\n",
              "      <td>6.0</td>\n",
              "      <td>10.444240</td>\n",
              "      <td>4.444240</td>\n",
              "    </tr>\n",
              "    <tr>\n",
              "      <th>jimmy briand</th>\n",
              "      <td>54</td>\n",
              "      <td>2.0</td>\n",
              "      <td>6.588024</td>\n",
              "      <td>4.588024</td>\n",
              "    </tr>\n",
              "    <tr>\n",
              "      <th>alessandro diamanti</th>\n",
              "      <td>359</td>\n",
              "      <td>19.0</td>\n",
              "      <td>23.971007</td>\n",
              "      <td>4.971007</td>\n",
              "    </tr>\n",
              "    <tr>\n",
              "      <th>bafetimbi gomis</th>\n",
              "      <td>111</td>\n",
              "      <td>10.0</td>\n",
              "      <td>15.319845</td>\n",
              "      <td>5.319845</td>\n",
              "    </tr>\n",
              "    <tr>\n",
              "      <th>riccardo meggiorini</th>\n",
              "      <td>186</td>\n",
              "      <td>12.0</td>\n",
              "      <td>17.478974</td>\n",
              "      <td>5.478974</td>\n",
              "    </tr>\n",
              "  </tbody>\n",
              "</table>\n",
              "<p>3875 rows × 4 columns</p>\n",
              "</div>"
            ],
            "text/plain": [
              "                     n_left_foot_shots  goals_scored  expected_goals  difference\n",
              "player                                                                          \n",
              "lionel messi                       752         167.0      122.275613  -44.724387\n",
              "antoine griezmann                  345          58.0       42.553398  -15.446602\n",
              "iago falque                        132          23.0       13.516637   -9.483363\n",
              "arjen robben                       296          42.0       32.521805   -9.478195\n",
              "franck ribery                       57          16.0        6.669528   -9.330472\n",
              "...                                ...           ...             ...         ...\n",
              "ruben castro                        67           6.0       10.444240    4.444240\n",
              "jimmy briand                        54           2.0        6.588024    4.588024\n",
              "alessandro diamanti                359          19.0       23.971007    4.971007\n",
              "bafetimbi gomis                    111          10.0       15.319845    5.319845\n",
              "riccardo meggiorini                186          12.0       17.478974    5.478974\n",
              "\n",
              "[3875 rows x 4 columns]"
            ]
          },
          "metadata": {
            "tags": []
          },
          "execution_count": 52
        }
      ]
    },
    {
      "cell_type": "code",
      "metadata": {
        "id": "qmsRwUteu7lQ",
        "colab_type": "code",
        "outputId": "06498147-e43c-4a8f-86c2-1d7ba8437b90",
        "colab": {
          "base_uri": "https://localhost:8080/",
          "height": 105
        }
      },
      "source": [
        "left_foot_players.loc['cristiano ronaldo']"
      ],
      "execution_count": 0,
      "outputs": [
        {
          "output_type": "execute_result",
          "data": {
            "text/plain": [
              "n_left_foot_shots    237.000000\n",
              "goals_scored          32.000000\n",
              "expected_goals        29.223878\n",
              "difference            -2.776122\n",
              "Name: cristiano ronaldo, dtype: float64"
            ]
          },
          "metadata": {
            "tags": []
          },
          "execution_count": 55
        }
      ]
    },
    {
      "cell_type": "markdown",
      "metadata": {
        "id": "IEKmJ15IvNus",
        "colab_type": "text"
      },
      "source": [
        "### Best Right footers"
      ]
    },
    {
      "cell_type": "code",
      "metadata": {
        "id": "bh0uYxEyvCQH",
        "colab_type": "code",
        "outputId": "165b7bb7-bf02-4de6-d9a3-4a875a406420",
        "colab": {
          "base_uri": "https://localhost:8080/",
          "height": 436
        }
      },
      "source": [
        "right_foot = events2[(events2.event_type==1) & (events2.bodypart==1)]\n",
        "right_foot_players = right_foot[['player', 'event_type', 'true_goals', 'expected_goals', 'difference']].groupby('player').sum()\n",
        "right_foot_players.columns = ['n_right_foot_shots', 'goals_scored', 'expected_goals', 'difference']\n",
        "right_foot_players.sort_values(['difference'])"
      ],
      "execution_count": 0,
      "outputs": [
        {
          "output_type": "execute_result",
          "data": {
            "text/html": [
              "<div>\n",
              "<style scoped>\n",
              "    .dataframe tbody tr th:only-of-type {\n",
              "        vertical-align: middle;\n",
              "    }\n",
              "\n",
              "    .dataframe tbody tr th {\n",
              "        vertical-align: top;\n",
              "    }\n",
              "\n",
              "    .dataframe thead th {\n",
              "        text-align: right;\n",
              "    }\n",
              "</style>\n",
              "<table border=\"1\" class=\"dataframe\">\n",
              "  <thead>\n",
              "    <tr style=\"text-align: right;\">\n",
              "      <th></th>\n",
              "      <th>n_right_foot_shots</th>\n",
              "      <th>goals_scored</th>\n",
              "      <th>expected_goals</th>\n",
              "      <th>difference</th>\n",
              "    </tr>\n",
              "    <tr>\n",
              "      <th>player</th>\n",
              "      <th></th>\n",
              "      <th></th>\n",
              "      <th></th>\n",
              "      <th></th>\n",
              "    </tr>\n",
              "  </thead>\n",
              "  <tbody>\n",
              "    <tr>\n",
              "      <th>luis suarez</th>\n",
              "      <td>289</td>\n",
              "      <td>69.0</td>\n",
              "      <td>45.599689</td>\n",
              "      <td>-23.400311</td>\n",
              "    </tr>\n",
              "    <tr>\n",
              "      <th>gonzalo higuain</th>\n",
              "      <td>362</td>\n",
              "      <td>86.0</td>\n",
              "      <td>63.913154</td>\n",
              "      <td>-22.086846</td>\n",
              "    </tr>\n",
              "    <tr>\n",
              "      <th>alexandre lacazette</th>\n",
              "      <td>270</td>\n",
              "      <td>70.0</td>\n",
              "      <td>50.868442</td>\n",
              "      <td>-19.131558</td>\n",
              "    </tr>\n",
              "    <tr>\n",
              "      <th>robert lewandowski</th>\n",
              "      <td>378</td>\n",
              "      <td>84.0</td>\n",
              "      <td>68.662980</td>\n",
              "      <td>-15.337020</td>\n",
              "    </tr>\n",
              "    <tr>\n",
              "      <th>zlatan ibrahimovic</th>\n",
              "      <td>554</td>\n",
              "      <td>111.0</td>\n",
              "      <td>96.102880</td>\n",
              "      <td>-14.897120</td>\n",
              "    </tr>\n",
              "    <tr>\n",
              "      <th>...</th>\n",
              "      <td>...</td>\n",
              "      <td>...</td>\n",
              "      <td>...</td>\n",
              "      <td>...</td>\n",
              "    </tr>\n",
              "    <tr>\n",
              "      <th>pedro leon</th>\n",
              "      <td>249</td>\n",
              "      <td>12.0</td>\n",
              "      <td>19.030885</td>\n",
              "      <td>7.030885</td>\n",
              "    </tr>\n",
              "    <tr>\n",
              "      <th>anthony modeste</th>\n",
              "      <td>219</td>\n",
              "      <td>34.0</td>\n",
              "      <td>42.365421</td>\n",
              "      <td>8.365421</td>\n",
              "    </tr>\n",
              "    <tr>\n",
              "      <th>amauri</th>\n",
              "      <td>120</td>\n",
              "      <td>12.0</td>\n",
              "      <td>20.905100</td>\n",
              "      <td>8.905100</td>\n",
              "    </tr>\n",
              "    <tr>\n",
              "      <th>mario balotelli</th>\n",
              "      <td>313</td>\n",
              "      <td>30.0</td>\n",
              "      <td>38.968091</td>\n",
              "      <td>8.968091</td>\n",
              "    </tr>\n",
              "    <tr>\n",
              "      <th>jesus navas</th>\n",
              "      <td>217</td>\n",
              "      <td>9.0</td>\n",
              "      <td>20.954476</td>\n",
              "      <td>11.954476</td>\n",
              "    </tr>\n",
              "  </tbody>\n",
              "</table>\n",
              "<p>4310 rows × 4 columns</p>\n",
              "</div>"
            ],
            "text/plain": [
              "                     n_right_foot_shots  goals_scored  expected_goals  difference\n",
              "player                                                                           \n",
              "luis suarez                         289          69.0       45.599689  -23.400311\n",
              "gonzalo higuain                     362          86.0       63.913154  -22.086846\n",
              "alexandre lacazette                 270          70.0       50.868442  -19.131558\n",
              "robert lewandowski                  378          84.0       68.662980  -15.337020\n",
              "zlatan ibrahimovic                  554         111.0       96.102880  -14.897120\n",
              "...                                 ...           ...             ...         ...\n",
              "pedro leon                          249          12.0       19.030885    7.030885\n",
              "anthony modeste                     219          34.0       42.365421    8.365421\n",
              "amauri                              120          12.0       20.905100    8.905100\n",
              "mario balotelli                     313          30.0       38.968091    8.968091\n",
              "jesus navas                         217           9.0       20.954476   11.954476\n",
              "\n",
              "[4310 rows x 4 columns]"
            ]
          },
          "metadata": {
            "tags": []
          },
          "execution_count": 56
        }
      ]
    },
    {
      "cell_type": "code",
      "metadata": {
        "id": "tvpNXyFVvhE6",
        "colab_type": "code",
        "outputId": "af9e5ae7-7dec-4700-fd7e-6d1ed709ac69",
        "colab": {
          "base_uri": "https://localhost:8080/",
          "height": 105
        }
      },
      "source": [
        "right_foot_players.loc['lionel messi']"
      ],
      "execution_count": 0,
      "outputs": [
        {
          "output_type": "execute_result",
          "data": {
            "text/plain": [
              "n_right_foot_shots    109.000000\n",
              "goals_scored           30.000000\n",
              "expected_goals         19.847867\n",
              "difference            -10.152133\n",
              "Name: lionel messi, dtype: float64"
            ]
          },
          "metadata": {
            "tags": []
          },
          "execution_count": 58
        }
      ]
    },
    {
      "cell_type": "markdown",
      "metadata": {
        "id": "sqJm5Z6AvXBJ",
        "colab_type": "text"
      },
      "source": [
        "### Best Ouside-the-box Shooters"
      ]
    },
    {
      "cell_type": "code",
      "metadata": {
        "id": "HQvTH5aEvRYp",
        "colab_type": "code",
        "outputId": "70da94dc-f3cf-4642-fba9-ba2513762a04",
        "colab": {
          "base_uri": "https://localhost:8080/",
          "height": 436
        }
      },
      "source": [
        "outside_box = shots2[(shots2.location==15)]\n",
        "outbox_players = outside_box[['player', 'event_type', 'true_goals', 'expected_goals', 'difference']].groupby('player').sum()\n",
        "outbox_players.columns = ['n_outside_box_shots', 'goals_scored', 'expected_goals', 'difference']\n",
        "outbox_players.sort_values(['difference'])"
      ],
      "execution_count": 0,
      "outputs": [
        {
          "output_type": "execute_result",
          "data": {
            "text/html": [
              "<div>\n",
              "<style scoped>\n",
              "    .dataframe tbody tr th:only-of-type {\n",
              "        vertical-align: middle;\n",
              "    }\n",
              "\n",
              "    .dataframe tbody tr th {\n",
              "        vertical-align: top;\n",
              "    }\n",
              "\n",
              "    .dataframe thead th {\n",
              "        text-align: right;\n",
              "    }\n",
              "</style>\n",
              "<table border=\"1\" class=\"dataframe\">\n",
              "  <thead>\n",
              "    <tr style=\"text-align: right;\">\n",
              "      <th></th>\n",
              "      <th>n_outside_box_shots</th>\n",
              "      <th>goals_scored</th>\n",
              "      <th>expected_goals</th>\n",
              "      <th>difference</th>\n",
              "    </tr>\n",
              "    <tr>\n",
              "      <th>player</th>\n",
              "      <th></th>\n",
              "      <th></th>\n",
              "      <th></th>\n",
              "      <th></th>\n",
              "    </tr>\n",
              "  </thead>\n",
              "  <tbody>\n",
              "    <tr>\n",
              "      <th>lionel messi</th>\n",
              "      <td>304</td>\n",
              "      <td>16.0</td>\n",
              "      <td>6.958267</td>\n",
              "      <td>-9.041733</td>\n",
              "    </tr>\n",
              "    <tr>\n",
              "      <th>paul pogba</th>\n",
              "      <td>226</td>\n",
              "      <td>14.0</td>\n",
              "      <td>6.868845</td>\n",
              "      <td>-7.131155</td>\n",
              "    </tr>\n",
              "    <tr>\n",
              "      <th>gonzalo higuain</th>\n",
              "      <td>127</td>\n",
              "      <td>11.0</td>\n",
              "      <td>4.513068</td>\n",
              "      <td>-6.486932</td>\n",
              "    </tr>\n",
              "    <tr>\n",
              "      <th>james rodriguez</th>\n",
              "      <td>105</td>\n",
              "      <td>9.0</td>\n",
              "      <td>2.635160</td>\n",
              "      <td>-6.364840</td>\n",
              "    </tr>\n",
              "    <tr>\n",
              "      <th>yaya toure</th>\n",
              "      <td>128</td>\n",
              "      <td>10.0</td>\n",
              "      <td>3.964334</td>\n",
              "      <td>-6.035666</td>\n",
              "    </tr>\n",
              "    <tr>\n",
              "      <th>...</th>\n",
              "      <td>...</td>\n",
              "      <td>...</td>\n",
              "      <td>...</td>\n",
              "      <td>...</td>\n",
              "    </tr>\n",
              "    <tr>\n",
              "      <th>ronny rodelin</th>\n",
              "      <td>119</td>\n",
              "      <td>0.0</td>\n",
              "      <td>3.790449</td>\n",
              "      <td>3.790449</td>\n",
              "    </tr>\n",
              "    <tr>\n",
              "      <th>radja nainggolan</th>\n",
              "      <td>280</td>\n",
              "      <td>6.0</td>\n",
              "      <td>9.815165</td>\n",
              "      <td>3.815165</td>\n",
              "    </tr>\n",
              "    <tr>\n",
              "      <th>francesco lodi</th>\n",
              "      <td>170</td>\n",
              "      <td>0.0</td>\n",
              "      <td>3.910100</td>\n",
              "      <td>3.910100</td>\n",
              "    </tr>\n",
              "    <tr>\n",
              "      <th>alessandro diamanti</th>\n",
              "      <td>254</td>\n",
              "      <td>3.0</td>\n",
              "      <td>7.270499</td>\n",
              "      <td>4.270499</td>\n",
              "    </tr>\n",
              "    <tr>\n",
              "      <th>mario balotelli</th>\n",
              "      <td>209</td>\n",
              "      <td>1.0</td>\n",
              "      <td>5.638038</td>\n",
              "      <td>4.638038</td>\n",
              "    </tr>\n",
              "  </tbody>\n",
              "</table>\n",
              "<p>4148 rows × 4 columns</p>\n",
              "</div>"
            ],
            "text/plain": [
              "                     n_outside_box_shots  goals_scored  expected_goals  difference\n",
              "player                                                                            \n",
              "lionel messi                         304          16.0        6.958267   -9.041733\n",
              "paul pogba                           226          14.0        6.868845   -7.131155\n",
              "gonzalo higuain                      127          11.0        4.513068   -6.486932\n",
              "james rodriguez                      105           9.0        2.635160   -6.364840\n",
              "yaya toure                           128          10.0        3.964334   -6.035666\n",
              "...                                  ...           ...             ...         ...\n",
              "ronny rodelin                        119           0.0        3.790449    3.790449\n",
              "radja nainggolan                     280           6.0        9.815165    3.815165\n",
              "francesco lodi                       170           0.0        3.910100    3.910100\n",
              "alessandro diamanti                  254           3.0        7.270499    4.270499\n",
              "mario balotelli                      209           1.0        5.638038    4.638038\n",
              "\n",
              "[4148 rows x 4 columns]"
            ]
          },
          "metadata": {
            "tags": []
          },
          "execution_count": 57
        }
      ]
    },
    {
      "cell_type": "markdown",
      "metadata": {
        "id": "WH3_KeUBv4yY",
        "colab_type": "text"
      },
      "source": [
        "### Best Passes"
      ]
    },
    {
      "cell_type": "code",
      "metadata": {
        "id": "D5VVM_vPvZhr",
        "colab_type": "code",
        "outputId": "5847a5dd-7f39-4f29-ad9b-81638c3c546f",
        "colab": {
          "base_uri": "https://localhost:8080/",
          "height": 436
        }
      },
      "source": [
        "passes_and_throughballs = pd.concat([shots2[shots2.assist_method==1], shots2[shots2.assist_method==4]])\n",
        "assisting_players = passes_and_throughballs[['player2', 'event_type', 'true_goals', 'expected_goals', 'difference']].groupby('player2').sum()\n",
        "assisting_players['xGoals_per_pass'] = assisting_players['expected_goals'] / assisting_players['event_type']\n",
        "assisting_players.columns = ['n_passes', 'goals_scored_from_passes', 'xGoals_from_passes', 'difference', 'xGoals_per_pass']\n",
        "\n",
        "assisting_players[assisting_players.n_passes > 100].sort_values(['xGoals_per_pass'], ascending=False)\n",
        "\n"
      ],
      "execution_count": 0,
      "outputs": [
        {
          "output_type": "execute_result",
          "data": {
            "text/html": [
              "<div>\n",
              "<style scoped>\n",
              "    .dataframe tbody tr th:only-of-type {\n",
              "        vertical-align: middle;\n",
              "    }\n",
              "\n",
              "    .dataframe tbody tr th {\n",
              "        vertical-align: top;\n",
              "    }\n",
              "\n",
              "    .dataframe thead th {\n",
              "        text-align: right;\n",
              "    }\n",
              "</style>\n",
              "<table border=\"1\" class=\"dataframe\">\n",
              "  <thead>\n",
              "    <tr style=\"text-align: right;\">\n",
              "      <th></th>\n",
              "      <th>n_passes</th>\n",
              "      <th>goals_scored_from_passes</th>\n",
              "      <th>xGoals_from_passes</th>\n",
              "      <th>difference</th>\n",
              "      <th>xGoals_per_pass</th>\n",
              "    </tr>\n",
              "    <tr>\n",
              "      <th>player2</th>\n",
              "      <th></th>\n",
              "      <th></th>\n",
              "      <th></th>\n",
              "      <th></th>\n",
              "      <th></th>\n",
              "    </tr>\n",
              "  </thead>\n",
              "  <tbody>\n",
              "    <tr>\n",
              "      <th>luis suarez</th>\n",
              "      <td>185</td>\n",
              "      <td>40.0</td>\n",
              "      <td>31.293564</td>\n",
              "      <td>-8.706436</td>\n",
              "      <td>0.169154</td>\n",
              "    </tr>\n",
              "    <tr>\n",
              "      <th>gareth bale</th>\n",
              "      <td>109</td>\n",
              "      <td>21.0</td>\n",
              "      <td>17.826142</td>\n",
              "      <td>-3.173858</td>\n",
              "      <td>0.163543</td>\n",
              "    </tr>\n",
              "    <tr>\n",
              "      <th>angel di maria</th>\n",
              "      <td>211</td>\n",
              "      <td>43.0</td>\n",
              "      <td>33.287330</td>\n",
              "      <td>-9.712670</td>\n",
              "      <td>0.157760</td>\n",
              "    </tr>\n",
              "    <tr>\n",
              "      <th>lionel messi</th>\n",
              "      <td>350</td>\n",
              "      <td>68.0</td>\n",
              "      <td>53.779269</td>\n",
              "      <td>-14.220731</td>\n",
              "      <td>0.153655</td>\n",
              "    </tr>\n",
              "    <tr>\n",
              "      <th>karim bellarabi</th>\n",
              "      <td>109</td>\n",
              "      <td>18.0</td>\n",
              "      <td>16.436376</td>\n",
              "      <td>-1.563624</td>\n",
              "      <td>0.150792</td>\n",
              "    </tr>\n",
              "    <tr>\n",
              "      <th>...</th>\n",
              "      <td>...</td>\n",
              "      <td>...</td>\n",
              "      <td>...</td>\n",
              "      <td>...</td>\n",
              "      <td>...</td>\n",
              "    </tr>\n",
              "    <tr>\n",
              "      <th>daniel baier</th>\n",
              "      <td>185</td>\n",
              "      <td>10.0</td>\n",
              "      <td>11.809844</td>\n",
              "      <td>1.809844</td>\n",
              "      <td>0.063837</td>\n",
              "    </tr>\n",
              "    <tr>\n",
              "      <th>jaroslav plasil</th>\n",
              "      <td>161</td>\n",
              "      <td>7.0</td>\n",
              "      <td>9.971967</td>\n",
              "      <td>2.971967</td>\n",
              "      <td>0.061938</td>\n",
              "    </tr>\n",
              "    <tr>\n",
              "      <th>lucas biglia</th>\n",
              "      <td>101</td>\n",
              "      <td>4.0</td>\n",
              "      <td>6.070352</td>\n",
              "      <td>2.070352</td>\n",
              "      <td>0.060102</td>\n",
              "    </tr>\n",
              "    <tr>\n",
              "      <th>david pizarro</th>\n",
              "      <td>111</td>\n",
              "      <td>5.0</td>\n",
              "      <td>6.242352</td>\n",
              "      <td>1.242352</td>\n",
              "      <td>0.056237</td>\n",
              "    </tr>\n",
              "    <tr>\n",
              "      <th>idrissa gueye</th>\n",
              "      <td>101</td>\n",
              "      <td>4.0</td>\n",
              "      <td>5.499305</td>\n",
              "      <td>1.499305</td>\n",
              "      <td>0.054449</td>\n",
              "    </tr>\n",
              "  </tbody>\n",
              "</table>\n",
              "<p>230 rows × 5 columns</p>\n",
              "</div>"
            ],
            "text/plain": [
              "                 n_passes  goals_scored_from_passes  xGoals_from_passes  difference  xGoals_per_pass\n",
              "player2                                                                                             \n",
              "luis suarez           185                      40.0           31.293564   -8.706436         0.169154\n",
              "gareth bale           109                      21.0           17.826142   -3.173858         0.163543\n",
              "angel di maria        211                      43.0           33.287330   -9.712670         0.157760\n",
              "lionel messi          350                      68.0           53.779269  -14.220731         0.153655\n",
              "karim bellarabi       109                      18.0           16.436376   -1.563624         0.150792\n",
              "...                   ...                       ...                 ...         ...              ...\n",
              "daniel baier          185                      10.0           11.809844    1.809844         0.063837\n",
              "jaroslav plasil       161                       7.0            9.971967    2.971967         0.061938\n",
              "lucas biglia          101                       4.0            6.070352    2.070352         0.060102\n",
              "david pizarro         111                       5.0            6.242352    1.242352         0.056237\n",
              "idrissa gueye         101                       4.0            5.499305    1.499305         0.054449\n",
              "\n",
              "[230 rows x 5 columns]"
            ]
          },
          "metadata": {
            "tags": []
          },
          "execution_count": 59
        }
      ]
    },
    {
      "cell_type": "markdown",
      "metadata": {
        "id": "GC80cTTPv_gZ",
        "colab_type": "text"
      },
      "source": [
        "### Best crosses"
      ]
    },
    {
      "cell_type": "code",
      "metadata": {
        "id": "zYrAd3-Kv8-0",
        "colab_type": "code",
        "outputId": "42c10944-7b6f-4532-86b2-7b5731263a34",
        "colab": {
          "base_uri": "https://localhost:8080/",
          "height": 436
        }
      },
      "source": [
        "crosses = shots2[shots2.assist_method==2]\n",
        "crosses_players = shots2[['player2', 'event_type', 'true_goals', 'expected_goals', 'difference']].groupby('player2').sum()\n",
        "crosses_players.columns = ['n_crosses', 'goals_scored_from_crosses', 'xGoals_from_crosses', 'difference']\n",
        "crosses_players['xGoals_per_cross'] = crosses_players['xGoals_from_crosses'] / crosses_players['n_crosses']\n",
        "crosses_players.columns = ['n_crosses', 'goals_scored_from_crosses', 'xGoals_from_crosses', 'difference', 'xGoals_per_cross']\n",
        "crosses_players[crosses_players.n_crosses > 50].sort_values(['xGoals_per_cross'], ascending=False)\n",
        "\n"
      ],
      "execution_count": 0,
      "outputs": [
        {
          "output_type": "execute_result",
          "data": {
            "text/html": [
              "<div>\n",
              "<style scoped>\n",
              "    .dataframe tbody tr th:only-of-type {\n",
              "        vertical-align: middle;\n",
              "    }\n",
              "\n",
              "    .dataframe tbody tr th {\n",
              "        vertical-align: top;\n",
              "    }\n",
              "\n",
              "    .dataframe thead th {\n",
              "        text-align: right;\n",
              "    }\n",
              "</style>\n",
              "<table border=\"1\" class=\"dataframe\">\n",
              "  <thead>\n",
              "    <tr style=\"text-align: right;\">\n",
              "      <th></th>\n",
              "      <th>n_crosses</th>\n",
              "      <th>goals_scored_from_crosses</th>\n",
              "      <th>xGoals_from_crosses</th>\n",
              "      <th>difference</th>\n",
              "      <th>xGoals_per_cross</th>\n",
              "    </tr>\n",
              "    <tr>\n",
              "      <th>player2</th>\n",
              "      <th></th>\n",
              "      <th></th>\n",
              "      <th></th>\n",
              "      <th></th>\n",
              "      <th></th>\n",
              "    </tr>\n",
              "  </thead>\n",
              "  <tbody>\n",
              "    <tr>\n",
              "      <th>luis suarez</th>\n",
              "      <td>209</td>\n",
              "      <td>44.0</td>\n",
              "      <td>34.892571</td>\n",
              "      <td>-9.107429</td>\n",
              "      <td>0.166950</td>\n",
              "    </tr>\n",
              "    <tr>\n",
              "      <th>lukas podolski</th>\n",
              "      <td>61</td>\n",
              "      <td>10.0</td>\n",
              "      <td>10.158822</td>\n",
              "      <td>0.158822</td>\n",
              "      <td>0.166538</td>\n",
              "    </tr>\n",
              "    <tr>\n",
              "      <th>filip kostic</th>\n",
              "      <td>135</td>\n",
              "      <td>12.0</td>\n",
              "      <td>21.516195</td>\n",
              "      <td>9.516195</td>\n",
              "      <td>0.159379</td>\n",
              "    </tr>\n",
              "    <tr>\n",
              "      <th>moi gomez</th>\n",
              "      <td>69</td>\n",
              "      <td>14.0</td>\n",
              "      <td>10.855441</td>\n",
              "      <td>-3.144559</td>\n",
              "      <td>0.157325</td>\n",
              "    </tr>\n",
              "    <tr>\n",
              "      <th>aritz aduriz</th>\n",
              "      <td>92</td>\n",
              "      <td>18.0</td>\n",
              "      <td>14.387418</td>\n",
              "      <td>-3.612582</td>\n",
              "      <td>0.156385</td>\n",
              "    </tr>\n",
              "    <tr>\n",
              "      <th>...</th>\n",
              "      <td>...</td>\n",
              "      <td>...</td>\n",
              "      <td>...</td>\n",
              "      <td>...</td>\n",
              "      <td>...</td>\n",
              "    </tr>\n",
              "    <tr>\n",
              "      <th>idrissa gueye</th>\n",
              "      <td>110</td>\n",
              "      <td>5.0</td>\n",
              "      <td>6.080400</td>\n",
              "      <td>1.080400</td>\n",
              "      <td>0.055276</td>\n",
              "    </tr>\n",
              "    <tr>\n",
              "      <th>ogenyi onazi</th>\n",
              "      <td>54</td>\n",
              "      <td>4.0</td>\n",
              "      <td>2.895160</td>\n",
              "      <td>-1.104840</td>\n",
              "      <td>0.053614</td>\n",
              "    </tr>\n",
              "    <tr>\n",
              "      <th>jeremy clement</th>\n",
              "      <td>52</td>\n",
              "      <td>3.0</td>\n",
              "      <td>2.740405</td>\n",
              "      <td>-0.259595</td>\n",
              "      <td>0.052700</td>\n",
              "    </tr>\n",
              "    <tr>\n",
              "      <th>mousa dembele</th>\n",
              "      <td>83</td>\n",
              "      <td>3.0</td>\n",
              "      <td>3.885354</td>\n",
              "      <td>0.885354</td>\n",
              "      <td>0.046811</td>\n",
              "    </tr>\n",
              "    <tr>\n",
              "      <th>andrew surman</th>\n",
              "      <td>52</td>\n",
              "      <td>4.0</td>\n",
              "      <td>2.421959</td>\n",
              "      <td>-1.578041</td>\n",
              "      <td>0.046576</td>\n",
              "    </tr>\n",
              "  </tbody>\n",
              "</table>\n",
              "<p>1035 rows × 5 columns</p>\n",
              "</div>"
            ],
            "text/plain": [
              "                n_crosses  goals_scored_from_crosses  xGoals_from_crosses  difference  xGoals_per_cross\n",
              "player2                                                                                                \n",
              "luis suarez           209                       44.0            34.892571   -9.107429          0.166950\n",
              "lukas podolski         61                       10.0            10.158822    0.158822          0.166538\n",
              "filip kostic          135                       12.0            21.516195    9.516195          0.159379\n",
              "moi gomez              69                       14.0            10.855441   -3.144559          0.157325\n",
              "aritz aduriz           92                       18.0            14.387418   -3.612582          0.156385\n",
              "...                   ...                        ...                  ...         ...               ...\n",
              "idrissa gueye         110                        5.0             6.080400    1.080400          0.055276\n",
              "ogenyi onazi           54                        4.0             2.895160   -1.104840          0.053614\n",
              "jeremy clement         52                        3.0             2.740405   -0.259595          0.052700\n",
              "mousa dembele          83                        3.0             3.885354    0.885354          0.046811\n",
              "andrew surman          52                        4.0             2.421959   -1.578041          0.046576\n",
              "\n",
              "[1035 rows x 5 columns]"
            ]
          },
          "metadata": {
            "tags": []
          },
          "execution_count": 60
        }
      ]
    },
    {
      "cell_type": "markdown",
      "metadata": {
        "id": "-4ncaNOEwGEA",
        "colab_type": "text"
      },
      "source": [
        "### Unlucky when passing the ball"
      ]
    },
    {
      "cell_type": "code",
      "metadata": {
        "id": "1qv2j9PQwBQN",
        "colab_type": "code",
        "outputId": "22b742f7-4ad7-4c57-f166-8ae3e3d626cf",
        "colab": {
          "base_uri": "https://localhost:8080/",
          "height": 454
        }
      },
      "source": [
        "print('Passes and Through-Balls:')\n",
        "assisting_players.sort_values(['difference'], ascending=False)"
      ],
      "execution_count": 0,
      "outputs": [
        {
          "output_type": "stream",
          "text": [
            "Passes and Through-Balls:\n"
          ],
          "name": "stdout"
        },
        {
          "output_type": "execute_result",
          "data": {
            "text/html": [
              "<div>\n",
              "<style scoped>\n",
              "    .dataframe tbody tr th:only-of-type {\n",
              "        vertical-align: middle;\n",
              "    }\n",
              "\n",
              "    .dataframe tbody tr th {\n",
              "        vertical-align: top;\n",
              "    }\n",
              "\n",
              "    .dataframe thead th {\n",
              "        text-align: right;\n",
              "    }\n",
              "</style>\n",
              "<table border=\"1\" class=\"dataframe\">\n",
              "  <thead>\n",
              "    <tr style=\"text-align: right;\">\n",
              "      <th></th>\n",
              "      <th>n_passes</th>\n",
              "      <th>goals_scored_from_passes</th>\n",
              "      <th>xGoals_from_passes</th>\n",
              "      <th>difference</th>\n",
              "      <th>xGoals_per_pass</th>\n",
              "    </tr>\n",
              "    <tr>\n",
              "      <th>player2</th>\n",
              "      <th></th>\n",
              "      <th></th>\n",
              "      <th></th>\n",
              "      <th></th>\n",
              "      <th></th>\n",
              "    </tr>\n",
              "  </thead>\n",
              "  <tbody>\n",
              "    <tr>\n",
              "      <th>joan verdu</th>\n",
              "      <td>134</td>\n",
              "      <td>7.0</td>\n",
              "      <td>15.435855</td>\n",
              "      <td>8.435855</td>\n",
              "      <td>0.115193</td>\n",
              "    </tr>\n",
              "    <tr>\n",
              "      <th>luca cigarini</th>\n",
              "      <td>164</td>\n",
              "      <td>6.0</td>\n",
              "      <td>13.924280</td>\n",
              "      <td>7.924280</td>\n",
              "      <td>0.084904</td>\n",
              "    </tr>\n",
              "    <tr>\n",
              "      <th>philippe coutinho</th>\n",
              "      <td>177</td>\n",
              "      <td>13.0</td>\n",
              "      <td>20.679299</td>\n",
              "      <td>7.679299</td>\n",
              "      <td>0.116832</td>\n",
              "    </tr>\n",
              "    <tr>\n",
              "      <th>xabi prieto</th>\n",
              "      <td>152</td>\n",
              "      <td>6.0</td>\n",
              "      <td>13.635634</td>\n",
              "      <td>7.635634</td>\n",
              "      <td>0.089708</td>\n",
              "    </tr>\n",
              "    <tr>\n",
              "      <th>alejandro gomez</th>\n",
              "      <td>137</td>\n",
              "      <td>5.0</td>\n",
              "      <td>12.352582</td>\n",
              "      <td>7.352582</td>\n",
              "      <td>0.090165</td>\n",
              "    </tr>\n",
              "    <tr>\n",
              "      <th>...</th>\n",
              "      <td>...</td>\n",
              "      <td>...</td>\n",
              "      <td>...</td>\n",
              "      <td>...</td>\n",
              "      <td>...</td>\n",
              "    </tr>\n",
              "    <tr>\n",
              "      <th>franck ribery</th>\n",
              "      <td>191</td>\n",
              "      <td>37.0</td>\n",
              "      <td>23.436227</td>\n",
              "      <td>-13.563773</td>\n",
              "      <td>0.122703</td>\n",
              "    </tr>\n",
              "    <tr>\n",
              "      <th>lionel messi</th>\n",
              "      <td>350</td>\n",
              "      <td>68.0</td>\n",
              "      <td>53.779269</td>\n",
              "      <td>-14.220731</td>\n",
              "      <td>0.153655</td>\n",
              "    </tr>\n",
              "    <tr>\n",
              "      <th>cristiano ronaldo</th>\n",
              "      <td>222</td>\n",
              "      <td>45.0</td>\n",
              "      <td>30.468599</td>\n",
              "      <td>-14.531401</td>\n",
              "      <td>0.137246</td>\n",
              "    </tr>\n",
              "    <tr>\n",
              "      <th>cesc fabregas</th>\n",
              "      <td>264</td>\n",
              "      <td>53.0</td>\n",
              "      <td>37.500012</td>\n",
              "      <td>-15.499988</td>\n",
              "      <td>0.142045</td>\n",
              "    </tr>\n",
              "    <tr>\n",
              "      <th>karim benzema</th>\n",
              "      <td>214</td>\n",
              "      <td>40.0</td>\n",
              "      <td>24.063570</td>\n",
              "      <td>-15.936430</td>\n",
              "      <td>0.112447</td>\n",
              "    </tr>\n",
              "  </tbody>\n",
              "</table>\n",
              "<p>4634 rows × 5 columns</p>\n",
              "</div>"
            ],
            "text/plain": [
              "                   n_passes  goals_scored_from_passes  xGoals_from_passes  difference  xGoals_per_pass\n",
              "player2                                                                                               \n",
              "joan verdu              134                       7.0           15.435855    8.435855         0.115193\n",
              "luca cigarini           164                       6.0           13.924280    7.924280         0.084904\n",
              "philippe coutinho       177                      13.0           20.679299    7.679299         0.116832\n",
              "xabi prieto             152                       6.0           13.635634    7.635634         0.089708\n",
              "alejandro gomez         137                       5.0           12.352582    7.352582         0.090165\n",
              "...                     ...                       ...                 ...         ...              ...\n",
              "franck ribery           191                      37.0           23.436227  -13.563773         0.122703\n",
              "lionel messi            350                      68.0           53.779269  -14.220731         0.153655\n",
              "cristiano ronaldo       222                      45.0           30.468599  -14.531401         0.137246\n",
              "cesc fabregas           264                      53.0           37.500012  -15.499988         0.142045\n",
              "karim benzema           214                      40.0           24.063570  -15.936430         0.112447\n",
              "\n",
              "[4634 rows x 5 columns]"
            ]
          },
          "metadata": {
            "tags": []
          },
          "execution_count": 61
        }
      ]
    }
  ]
}